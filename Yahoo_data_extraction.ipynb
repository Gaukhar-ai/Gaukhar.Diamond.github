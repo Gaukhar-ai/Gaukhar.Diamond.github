{
  "nbformat": 4,
  "nbformat_minor": 0,
  "metadata": {
    "colab": {
      "name": "Yahoo_data_extraction.ipynb",
      "provenance": [],
      "authorship_tag": "ABX9TyP8gZRf1iSX6by6KJe01Qxx",
      "include_colab_link": true
    },
    "kernelspec": {
      "name": "python3",
      "display_name": "Python 3"
    }
  },
  "cells": [
    {
      "cell_type": "markdown",
      "metadata": {
        "id": "view-in-github",
        "colab_type": "text"
      },
      "source": [
        "<a href=\"https://colab.research.google.com/github/Gaukhar-ai/Gaukhar.Diamond.github/blob/master/Yahoo_data_extraction.ipynb\" target=\"_parent\"><img src=\"https://colab.research.google.com/assets/colab-badge.svg\" alt=\"Open In Colab\"/></a>"
      ]
    },
    {
      "cell_type": "code",
      "metadata": {
        "id": "6-RUXjG5OXf3"
      },
      "source": [
        "#csv - comma separated value"
      ],
      "execution_count": 1,
      "outputs": []
    },
    {
      "cell_type": "code",
      "metadata": {
        "id": "sQJSLqS5PUvX"
      },
      "source": [
        "#yahoo finance api is free. Morningstar and alpha vantage, eix "
      ],
      "execution_count": null,
      "outputs": []
    },
    {
      "cell_type": "code",
      "metadata": {
        "id": "HRrfAnegPVfA"
      },
      "source": [
        "import numpy as np\n",
        "import pandas as pd"
      ],
      "execution_count": 2,
      "outputs": []
    },
    {
      "cell_type": "code",
      "metadata": {
        "id": "hxg0Y6IVPViM"
      },
      "source": [
        "ser = pd.Series(np.random.random(5), name = 'Column 01')"
      ],
      "execution_count": 3,
      "outputs": []
    },
    {
      "cell_type": "code",
      "metadata": {
        "colab": {
          "base_uri": "https://localhost:8080/"
        },
        "id": "2PdgmCrIPVlC",
        "outputId": "3f0b1485-3f4c-4643-cbab-126916509509"
      },
      "source": [
        "ser"
      ],
      "execution_count": 4,
      "outputs": [
        {
          "output_type": "execute_result",
          "data": {
            "text/plain": [
              "0    0.483321\n",
              "1    0.435164\n",
              "2    0.403852\n",
              "3    0.752559\n",
              "4    0.782970\n",
              "Name: Column 01, dtype: float64"
            ]
          },
          "metadata": {
            "tags": []
          },
          "execution_count": 4
        }
      ]
    },
    {
      "cell_type": "code",
      "metadata": {
        "colab": {
          "base_uri": "https://localhost:8080/"
        },
        "id": "HU90kRtePVn4",
        "outputId": "7093c7d6-e57e-4da2-8ac9-1669f34cf644"
      },
      "source": [
        "ser[2]"
      ],
      "execution_count": 6,
      "outputs": [
        {
          "output_type": "execute_result",
          "data": {
            "text/plain": [
              "0.4038516230430004"
            ]
          },
          "metadata": {
            "tags": []
          },
          "execution_count": 6
        }
      ]
    },
    {
      "cell_type": "code",
      "metadata": {
        "id": "xdfZtI3QPVqt"
      },
      "source": [
        "from pandas_datareader import data as wb"
      ],
      "execution_count": 7,
      "outputs": []
    },
    {
      "cell_type": "code",
      "metadata": {
        "id": "Z9yJyNZSPVt2"
      },
      "source": [
        "PG = wb.DataReader('PG', data_source='yahoo', start='1995-1-1')"
      ],
      "execution_count": 8,
      "outputs": []
    },
    {
      "cell_type": "code",
      "metadata": {
        "colab": {
          "base_uri": "https://localhost:8080/",
          "height": 450
        },
        "id": "WQOqkf4VPVw7",
        "outputId": "68bd92c4-da3c-462b-f0b1-2f8d2fd05431"
      },
      "source": [
        "PG"
      ],
      "execution_count": 9,
      "outputs": [
        {
          "output_type": "execute_result",
          "data": {
            "text/html": [
              "<div>\n",
              "<style scoped>\n",
              "    .dataframe tbody tr th:only-of-type {\n",
              "        vertical-align: middle;\n",
              "    }\n",
              "\n",
              "    .dataframe tbody tr th {\n",
              "        vertical-align: top;\n",
              "    }\n",
              "\n",
              "    .dataframe thead th {\n",
              "        text-align: right;\n",
              "    }\n",
              "</style>\n",
              "<table border=\"1\" class=\"dataframe\">\n",
              "  <thead>\n",
              "    <tr style=\"text-align: right;\">\n",
              "      <th></th>\n",
              "      <th>High</th>\n",
              "      <th>Low</th>\n",
              "      <th>Open</th>\n",
              "      <th>Close</th>\n",
              "      <th>Volume</th>\n",
              "      <th>Adj Close</th>\n",
              "    </tr>\n",
              "    <tr>\n",
              "      <th>Date</th>\n",
              "      <th></th>\n",
              "      <th></th>\n",
              "      <th></th>\n",
              "      <th></th>\n",
              "      <th></th>\n",
              "      <th></th>\n",
              "    </tr>\n",
              "  </thead>\n",
              "  <tbody>\n",
              "    <tr>\n",
              "      <th>1995-01-03</th>\n",
              "      <td>15.625000</td>\n",
              "      <td>15.437500</td>\n",
              "      <td>15.468750</td>\n",
              "      <td>15.593750</td>\n",
              "      <td>3318400.0</td>\n",
              "      <td>8.166473</td>\n",
              "    </tr>\n",
              "    <tr>\n",
              "      <th>1995-01-04</th>\n",
              "      <td>15.656250</td>\n",
              "      <td>15.312500</td>\n",
              "      <td>15.531250</td>\n",
              "      <td>15.468750</td>\n",
              "      <td>2218800.0</td>\n",
              "      <td>8.101009</td>\n",
              "    </tr>\n",
              "    <tr>\n",
              "      <th>1995-01-05</th>\n",
              "      <td>15.437500</td>\n",
              "      <td>15.218750</td>\n",
              "      <td>15.375000</td>\n",
              "      <td>15.250000</td>\n",
              "      <td>2319600.0</td>\n",
              "      <td>7.986450</td>\n",
              "    </tr>\n",
              "    <tr>\n",
              "      <th>1995-01-06</th>\n",
              "      <td>15.406250</td>\n",
              "      <td>15.156250</td>\n",
              "      <td>15.156250</td>\n",
              "      <td>15.281250</td>\n",
              "      <td>3438000.0</td>\n",
              "      <td>8.002816</td>\n",
              "    </tr>\n",
              "    <tr>\n",
              "      <th>1995-01-09</th>\n",
              "      <td>15.406250</td>\n",
              "      <td>15.187500</td>\n",
              "      <td>15.343750</td>\n",
              "      <td>15.218750</td>\n",
              "      <td>1795200.0</td>\n",
              "      <td>7.970086</td>\n",
              "    </tr>\n",
              "    <tr>\n",
              "      <th>...</th>\n",
              "      <td>...</td>\n",
              "      <td>...</td>\n",
              "      <td>...</td>\n",
              "      <td>...</td>\n",
              "      <td>...</td>\n",
              "      <td>...</td>\n",
              "    </tr>\n",
              "    <tr>\n",
              "      <th>2021-01-28</th>\n",
              "      <td>131.649994</td>\n",
              "      <td>127.440002</td>\n",
              "      <td>127.839996</td>\n",
              "      <td>130.360001</td>\n",
              "      <td>8242000.0</td>\n",
              "      <td>130.360001</td>\n",
              "    </tr>\n",
              "    <tr>\n",
              "      <th>2021-01-29</th>\n",
              "      <td>130.289993</td>\n",
              "      <td>128.070007</td>\n",
              "      <td>130.190002</td>\n",
              "      <td>128.210007</td>\n",
              "      <td>8343200.0</td>\n",
              "      <td>128.210007</td>\n",
              "    </tr>\n",
              "    <tr>\n",
              "      <th>2021-02-01</th>\n",
              "      <td>129.660004</td>\n",
              "      <td>128.199997</td>\n",
              "      <td>129.000000</td>\n",
              "      <td>128.970001</td>\n",
              "      <td>6534200.0</td>\n",
              "      <td>128.970001</td>\n",
              "    </tr>\n",
              "    <tr>\n",
              "      <th>2021-02-02</th>\n",
              "      <td>130.720001</td>\n",
              "      <td>128.690002</td>\n",
              "      <td>129.600006</td>\n",
              "      <td>128.789993</td>\n",
              "      <td>6825600.0</td>\n",
              "      <td>128.789993</td>\n",
              "    </tr>\n",
              "    <tr>\n",
              "      <th>2021-02-03</th>\n",
              "      <td>129.199997</td>\n",
              "      <td>127.750000</td>\n",
              "      <td>128.949997</td>\n",
              "      <td>128.949997</td>\n",
              "      <td>7309400.0</td>\n",
              "      <td>128.949997</td>\n",
              "    </tr>\n",
              "  </tbody>\n",
              "</table>\n",
              "<p>6569 rows × 6 columns</p>\n",
              "</div>"
            ],
            "text/plain": [
              "                  High         Low  ...     Volume   Adj Close\n",
              "Date                                ...                       \n",
              "1995-01-03   15.625000   15.437500  ...  3318400.0    8.166473\n",
              "1995-01-04   15.656250   15.312500  ...  2218800.0    8.101009\n",
              "1995-01-05   15.437500   15.218750  ...  2319600.0    7.986450\n",
              "1995-01-06   15.406250   15.156250  ...  3438000.0    8.002816\n",
              "1995-01-09   15.406250   15.187500  ...  1795200.0    7.970086\n",
              "...                ...         ...  ...        ...         ...\n",
              "2021-01-28  131.649994  127.440002  ...  8242000.0  130.360001\n",
              "2021-01-29  130.289993  128.070007  ...  8343200.0  128.210007\n",
              "2021-02-01  129.660004  128.199997  ...  6534200.0  128.970001\n",
              "2021-02-02  130.720001  128.690002  ...  6825600.0  128.789993\n",
              "2021-02-03  129.199997  127.750000  ...  7309400.0  128.949997\n",
              "\n",
              "[6569 rows x 6 columns]"
            ]
          },
          "metadata": {
            "tags": []
          },
          "execution_count": 9
        }
      ]
    },
    {
      "cell_type": "code",
      "metadata": {
        "colab": {
          "base_uri": "https://localhost:8080/"
        },
        "id": "FnqVIBkZPV0A",
        "outputId": "ac3ec3fa-c9e8-4e91-e745-2379602cef68"
      },
      "source": [
        "PG.info()"
      ],
      "execution_count": 11,
      "outputs": [
        {
          "output_type": "stream",
          "text": [
            "<class 'pandas.core.frame.DataFrame'>\n",
            "DatetimeIndex: 6569 entries, 1995-01-03 to 2021-02-03\n",
            "Data columns (total 6 columns):\n",
            " #   Column     Non-Null Count  Dtype  \n",
            "---  ------     --------------  -----  \n",
            " 0   High       6569 non-null   float64\n",
            " 1   Low        6569 non-null   float64\n",
            " 2   Open       6569 non-null   float64\n",
            " 3   Close      6569 non-null   float64\n",
            " 4   Volume     6569 non-null   float64\n",
            " 5   Adj Close  6569 non-null   float64\n",
            "dtypes: float64(6)\n",
            "memory usage: 359.2 KB\n"
          ],
          "name": "stdout"
        }
      ]
    },
    {
      "cell_type": "code",
      "metadata": {
        "colab": {
          "base_uri": "https://localhost:8080/",
          "height": 235
        },
        "id": "J8jOVLKcPV3P",
        "outputId": "2a4b1109-f7f3-4e8a-d93e-17cbad19e553"
      },
      "source": [
        "PG.head()"
      ],
      "execution_count": 12,
      "outputs": [
        {
          "output_type": "execute_result",
          "data": {
            "text/html": [
              "<div>\n",
              "<style scoped>\n",
              "    .dataframe tbody tr th:only-of-type {\n",
              "        vertical-align: middle;\n",
              "    }\n",
              "\n",
              "    .dataframe tbody tr th {\n",
              "        vertical-align: top;\n",
              "    }\n",
              "\n",
              "    .dataframe thead th {\n",
              "        text-align: right;\n",
              "    }\n",
              "</style>\n",
              "<table border=\"1\" class=\"dataframe\">\n",
              "  <thead>\n",
              "    <tr style=\"text-align: right;\">\n",
              "      <th></th>\n",
              "      <th>High</th>\n",
              "      <th>Low</th>\n",
              "      <th>Open</th>\n",
              "      <th>Close</th>\n",
              "      <th>Volume</th>\n",
              "      <th>Adj Close</th>\n",
              "    </tr>\n",
              "    <tr>\n",
              "      <th>Date</th>\n",
              "      <th></th>\n",
              "      <th></th>\n",
              "      <th></th>\n",
              "      <th></th>\n",
              "      <th></th>\n",
              "      <th></th>\n",
              "    </tr>\n",
              "  </thead>\n",
              "  <tbody>\n",
              "    <tr>\n",
              "      <th>1995-01-03</th>\n",
              "      <td>15.62500</td>\n",
              "      <td>15.43750</td>\n",
              "      <td>15.46875</td>\n",
              "      <td>15.59375</td>\n",
              "      <td>3318400.0</td>\n",
              "      <td>8.166473</td>\n",
              "    </tr>\n",
              "    <tr>\n",
              "      <th>1995-01-04</th>\n",
              "      <td>15.65625</td>\n",
              "      <td>15.31250</td>\n",
              "      <td>15.53125</td>\n",
              "      <td>15.46875</td>\n",
              "      <td>2218800.0</td>\n",
              "      <td>8.101009</td>\n",
              "    </tr>\n",
              "    <tr>\n",
              "      <th>1995-01-05</th>\n",
              "      <td>15.43750</td>\n",
              "      <td>15.21875</td>\n",
              "      <td>15.37500</td>\n",
              "      <td>15.25000</td>\n",
              "      <td>2319600.0</td>\n",
              "      <td>7.986450</td>\n",
              "    </tr>\n",
              "    <tr>\n",
              "      <th>1995-01-06</th>\n",
              "      <td>15.40625</td>\n",
              "      <td>15.15625</td>\n",
              "      <td>15.15625</td>\n",
              "      <td>15.28125</td>\n",
              "      <td>3438000.0</td>\n",
              "      <td>8.002816</td>\n",
              "    </tr>\n",
              "    <tr>\n",
              "      <th>1995-01-09</th>\n",
              "      <td>15.40625</td>\n",
              "      <td>15.18750</td>\n",
              "      <td>15.34375</td>\n",
              "      <td>15.21875</td>\n",
              "      <td>1795200.0</td>\n",
              "      <td>7.970086</td>\n",
              "    </tr>\n",
              "  </tbody>\n",
              "</table>\n",
              "</div>"
            ],
            "text/plain": [
              "                High       Low      Open     Close     Volume  Adj Close\n",
              "Date                                                                    \n",
              "1995-01-03  15.62500  15.43750  15.46875  15.59375  3318400.0   8.166473\n",
              "1995-01-04  15.65625  15.31250  15.53125  15.46875  2218800.0   8.101009\n",
              "1995-01-05  15.43750  15.21875  15.37500  15.25000  2319600.0   7.986450\n",
              "1995-01-06  15.40625  15.15625  15.15625  15.28125  3438000.0   8.002816\n",
              "1995-01-09  15.40625  15.18750  15.34375  15.21875  1795200.0   7.970086"
            ]
          },
          "metadata": {
            "tags": []
          },
          "execution_count": 12
        }
      ]
    },
    {
      "cell_type": "code",
      "metadata": {
        "colab": {
          "base_uri": "https://localhost:8080/",
          "height": 700
        },
        "id": "9CKz6P73PV6I",
        "outputId": "bd0a0005-92ad-4584-95d4-56cb62dcb44b"
      },
      "source": [
        "PG.tail(20)"
      ],
      "execution_count": 14,
      "outputs": [
        {
          "output_type": "execute_result",
          "data": {
            "text/html": [
              "<div>\n",
              "<style scoped>\n",
              "    .dataframe tbody tr th:only-of-type {\n",
              "        vertical-align: middle;\n",
              "    }\n",
              "\n",
              "    .dataframe tbody tr th {\n",
              "        vertical-align: top;\n",
              "    }\n",
              "\n",
              "    .dataframe thead th {\n",
              "        text-align: right;\n",
              "    }\n",
              "</style>\n",
              "<table border=\"1\" class=\"dataframe\">\n",
              "  <thead>\n",
              "    <tr style=\"text-align: right;\">\n",
              "      <th></th>\n",
              "      <th>High</th>\n",
              "      <th>Low</th>\n",
              "      <th>Open</th>\n",
              "      <th>Close</th>\n",
              "      <th>Volume</th>\n",
              "      <th>Adj Close</th>\n",
              "    </tr>\n",
              "    <tr>\n",
              "      <th>Date</th>\n",
              "      <th></th>\n",
              "      <th></th>\n",
              "      <th></th>\n",
              "      <th></th>\n",
              "      <th></th>\n",
              "      <th></th>\n",
              "    </tr>\n",
              "  </thead>\n",
              "  <tbody>\n",
              "    <tr>\n",
              "      <th>2021-01-06</th>\n",
              "      <td>141.039993</td>\n",
              "      <td>138.600006</td>\n",
              "      <td>138.770004</td>\n",
              "      <td>140.160004</td>\n",
              "      <td>10578000.0</td>\n",
              "      <td>139.319656</td>\n",
              "    </tr>\n",
              "    <tr>\n",
              "      <th>2021-01-07</th>\n",
              "      <td>140.130005</td>\n",
              "      <td>138.039993</td>\n",
              "      <td>139.750000</td>\n",
              "      <td>138.850006</td>\n",
              "      <td>7355400.0</td>\n",
              "      <td>138.017517</td>\n",
              "    </tr>\n",
              "    <tr>\n",
              "      <th>2021-01-08</th>\n",
              "      <td>139.059998</td>\n",
              "      <td>137.000000</td>\n",
              "      <td>138.470001</td>\n",
              "      <td>138.789993</td>\n",
              "      <td>7447700.0</td>\n",
              "      <td>137.957855</td>\n",
              "    </tr>\n",
              "    <tr>\n",
              "      <th>2021-01-11</th>\n",
              "      <td>139.440002</td>\n",
              "      <td>137.600006</td>\n",
              "      <td>138.750000</td>\n",
              "      <td>137.850006</td>\n",
              "      <td>7239900.0</td>\n",
              "      <td>137.023514</td>\n",
              "    </tr>\n",
              "    <tr>\n",
              "      <th>2021-01-12</th>\n",
              "      <td>138.250000</td>\n",
              "      <td>136.240005</td>\n",
              "      <td>137.850006</td>\n",
              "      <td>137.050003</td>\n",
              "      <td>6333500.0</td>\n",
              "      <td>136.228302</td>\n",
              "    </tr>\n",
              "    <tr>\n",
              "      <th>2021-01-13</th>\n",
              "      <td>138.070007</td>\n",
              "      <td>137.100006</td>\n",
              "      <td>137.100006</td>\n",
              "      <td>137.259995</td>\n",
              "      <td>6078800.0</td>\n",
              "      <td>136.437027</td>\n",
              "    </tr>\n",
              "    <tr>\n",
              "      <th>2021-01-14</th>\n",
              "      <td>137.649994</td>\n",
              "      <td>135.279999</td>\n",
              "      <td>137.429993</td>\n",
              "      <td>135.800003</td>\n",
              "      <td>6172800.0</td>\n",
              "      <td>134.985794</td>\n",
              "    </tr>\n",
              "    <tr>\n",
              "      <th>2021-01-15</th>\n",
              "      <td>136.199997</td>\n",
              "      <td>134.660004</td>\n",
              "      <td>135.250000</td>\n",
              "      <td>134.779999</td>\n",
              "      <td>7739600.0</td>\n",
              "      <td>133.971909</td>\n",
              "    </tr>\n",
              "    <tr>\n",
              "      <th>2021-01-19</th>\n",
              "      <td>136.360001</td>\n",
              "      <td>133.559998</td>\n",
              "      <td>135.699997</td>\n",
              "      <td>133.600006</td>\n",
              "      <td>9184900.0</td>\n",
              "      <td>132.798996</td>\n",
              "    </tr>\n",
              "    <tr>\n",
              "      <th>2021-01-20</th>\n",
              "      <td>133.800003</td>\n",
              "      <td>131.259995</td>\n",
              "      <td>132.529999</td>\n",
              "      <td>131.929993</td>\n",
              "      <td>12506600.0</td>\n",
              "      <td>131.138992</td>\n",
              "    </tr>\n",
              "    <tr>\n",
              "      <th>2021-01-21</th>\n",
              "      <td>131.990005</td>\n",
              "      <td>130.509995</td>\n",
              "      <td>130.649994</td>\n",
              "      <td>131.009995</td>\n",
              "      <td>8765700.0</td>\n",
              "      <td>131.009995</td>\n",
              "    </tr>\n",
              "    <tr>\n",
              "      <th>2021-01-22</th>\n",
              "      <td>131.470001</td>\n",
              "      <td>129.990005</td>\n",
              "      <td>131.020004</td>\n",
              "      <td>130.000000</td>\n",
              "      <td>7201700.0</td>\n",
              "      <td>130.000000</td>\n",
              "    </tr>\n",
              "    <tr>\n",
              "      <th>2021-01-25</th>\n",
              "      <td>133.000000</td>\n",
              "      <td>129.899994</td>\n",
              "      <td>129.949997</td>\n",
              "      <td>132.240005</td>\n",
              "      <td>9640000.0</td>\n",
              "      <td>132.240005</td>\n",
              "    </tr>\n",
              "    <tr>\n",
              "      <th>2021-01-26</th>\n",
              "      <td>133.470001</td>\n",
              "      <td>131.429993</td>\n",
              "      <td>132.250000</td>\n",
              "      <td>133.089996</td>\n",
              "      <td>5996700.0</td>\n",
              "      <td>133.089996</td>\n",
              "    </tr>\n",
              "    <tr>\n",
              "      <th>2021-01-27</th>\n",
              "      <td>133.100006</td>\n",
              "      <td>127.699997</td>\n",
              "      <td>132.389999</td>\n",
              "      <td>128.380005</td>\n",
              "      <td>10826700.0</td>\n",
              "      <td>128.380005</td>\n",
              "    </tr>\n",
              "    <tr>\n",
              "      <th>2021-01-28</th>\n",
              "      <td>131.649994</td>\n",
              "      <td>127.440002</td>\n",
              "      <td>127.839996</td>\n",
              "      <td>130.360001</td>\n",
              "      <td>8242000.0</td>\n",
              "      <td>130.360001</td>\n",
              "    </tr>\n",
              "    <tr>\n",
              "      <th>2021-01-29</th>\n",
              "      <td>130.289993</td>\n",
              "      <td>128.070007</td>\n",
              "      <td>130.190002</td>\n",
              "      <td>128.210007</td>\n",
              "      <td>8343200.0</td>\n",
              "      <td>128.210007</td>\n",
              "    </tr>\n",
              "    <tr>\n",
              "      <th>2021-02-01</th>\n",
              "      <td>129.660004</td>\n",
              "      <td>128.199997</td>\n",
              "      <td>129.000000</td>\n",
              "      <td>128.970001</td>\n",
              "      <td>6534200.0</td>\n",
              "      <td>128.970001</td>\n",
              "    </tr>\n",
              "    <tr>\n",
              "      <th>2021-02-02</th>\n",
              "      <td>130.720001</td>\n",
              "      <td>128.690002</td>\n",
              "      <td>129.600006</td>\n",
              "      <td>128.789993</td>\n",
              "      <td>6825600.0</td>\n",
              "      <td>128.789993</td>\n",
              "    </tr>\n",
              "    <tr>\n",
              "      <th>2021-02-03</th>\n",
              "      <td>129.199997</td>\n",
              "      <td>127.750000</td>\n",
              "      <td>128.949997</td>\n",
              "      <td>128.949997</td>\n",
              "      <td>7309400.0</td>\n",
              "      <td>128.949997</td>\n",
              "    </tr>\n",
              "  </tbody>\n",
              "</table>\n",
              "</div>"
            ],
            "text/plain": [
              "                  High         Low  ...      Volume   Adj Close\n",
              "Date                                ...                        \n",
              "2021-01-06  141.039993  138.600006  ...  10578000.0  139.319656\n",
              "2021-01-07  140.130005  138.039993  ...   7355400.0  138.017517\n",
              "2021-01-08  139.059998  137.000000  ...   7447700.0  137.957855\n",
              "2021-01-11  139.440002  137.600006  ...   7239900.0  137.023514\n",
              "2021-01-12  138.250000  136.240005  ...   6333500.0  136.228302\n",
              "2021-01-13  138.070007  137.100006  ...   6078800.0  136.437027\n",
              "2021-01-14  137.649994  135.279999  ...   6172800.0  134.985794\n",
              "2021-01-15  136.199997  134.660004  ...   7739600.0  133.971909\n",
              "2021-01-19  136.360001  133.559998  ...   9184900.0  132.798996\n",
              "2021-01-20  133.800003  131.259995  ...  12506600.0  131.138992\n",
              "2021-01-21  131.990005  130.509995  ...   8765700.0  131.009995\n",
              "2021-01-22  131.470001  129.990005  ...   7201700.0  130.000000\n",
              "2021-01-25  133.000000  129.899994  ...   9640000.0  132.240005\n",
              "2021-01-26  133.470001  131.429993  ...   5996700.0  133.089996\n",
              "2021-01-27  133.100006  127.699997  ...  10826700.0  128.380005\n",
              "2021-01-28  131.649994  127.440002  ...   8242000.0  130.360001\n",
              "2021-01-29  130.289993  128.070007  ...   8343200.0  128.210007\n",
              "2021-02-01  129.660004  128.199997  ...   6534200.0  128.970001\n",
              "2021-02-02  130.720001  128.690002  ...   6825600.0  128.789993\n",
              "2021-02-03  129.199997  127.750000  ...   7309400.0  128.949997\n",
              "\n",
              "[20 rows x 6 columns]"
            ]
          },
          "metadata": {
            "tags": []
          },
          "execution_count": 14
        }
      ]
    },
    {
      "cell_type": "code",
      "metadata": {
        "id": "s3P3H34DPV9M"
      },
      "source": [
        "tickers = ['PG', 'MSFT', 'T', 'F', 'GE']\n",
        "new_data = pd.DataFrame()\n",
        "for t in tickers:\n",
        "  new_data[t] = wb.DataReader(t, data_source='yahoo', start = '1995-1-1')['Adj Close']"
      ],
      "execution_count": 15,
      "outputs": []
    },
    {
      "cell_type": "code",
      "metadata": {
        "colab": {
          "base_uri": "https://localhost:8080/",
          "height": 235
        },
        "id": "W9Q1dGQ5PWAS",
        "outputId": "70ac23cc-490f-47b2-fdc1-2209651bea02"
      },
      "source": [
        "new_data.tail()"
      ],
      "execution_count": 16,
      "outputs": [
        {
          "output_type": "execute_result",
          "data": {
            "text/html": [
              "<div>\n",
              "<style scoped>\n",
              "    .dataframe tbody tr th:only-of-type {\n",
              "        vertical-align: middle;\n",
              "    }\n",
              "\n",
              "    .dataframe tbody tr th {\n",
              "        vertical-align: top;\n",
              "    }\n",
              "\n",
              "    .dataframe thead th {\n",
              "        text-align: right;\n",
              "    }\n",
              "</style>\n",
              "<table border=\"1\" class=\"dataframe\">\n",
              "  <thead>\n",
              "    <tr style=\"text-align: right;\">\n",
              "      <th></th>\n",
              "      <th>PG</th>\n",
              "      <th>MSFT</th>\n",
              "      <th>T</th>\n",
              "      <th>F</th>\n",
              "      <th>GE</th>\n",
              "    </tr>\n",
              "    <tr>\n",
              "      <th>Date</th>\n",
              "      <th></th>\n",
              "      <th></th>\n",
              "      <th></th>\n",
              "      <th></th>\n",
              "      <th></th>\n",
              "    </tr>\n",
              "  </thead>\n",
              "  <tbody>\n",
              "    <tr>\n",
              "      <th>2021-01-28</th>\n",
              "      <td>130.360001</td>\n",
              "      <td>238.929993</td>\n",
              "      <td>28.799999</td>\n",
              "      <td>10.72</td>\n",
              "      <td>11.09</td>\n",
              "    </tr>\n",
              "    <tr>\n",
              "      <th>2021-01-29</th>\n",
              "      <td>128.210007</td>\n",
              "      <td>231.960007</td>\n",
              "      <td>28.629999</td>\n",
              "      <td>10.53</td>\n",
              "      <td>10.68</td>\n",
              "    </tr>\n",
              "    <tr>\n",
              "      <th>2021-02-01</th>\n",
              "      <td>128.970001</td>\n",
              "      <td>239.649994</td>\n",
              "      <td>28.650000</td>\n",
              "      <td>10.83</td>\n",
              "      <td>10.74</td>\n",
              "    </tr>\n",
              "    <tr>\n",
              "      <th>2021-02-02</th>\n",
              "      <td>128.789993</td>\n",
              "      <td>239.509995</td>\n",
              "      <td>28.540001</td>\n",
              "      <td>10.86</td>\n",
              "      <td>11.24</td>\n",
              "    </tr>\n",
              "    <tr>\n",
              "      <th>2021-02-03</th>\n",
              "      <td>128.949997</td>\n",
              "      <td>243.000000</td>\n",
              "      <td>28.510000</td>\n",
              "      <td>11.20</td>\n",
              "      <td>11.20</td>\n",
              "    </tr>\n",
              "  </tbody>\n",
              "</table>\n",
              "</div>"
            ],
            "text/plain": [
              "                    PG        MSFT          T      F     GE\n",
              "Date                                                       \n",
              "2021-01-28  130.360001  238.929993  28.799999  10.72  11.09\n",
              "2021-01-29  128.210007  231.960007  28.629999  10.53  10.68\n",
              "2021-02-01  128.970001  239.649994  28.650000  10.83  10.74\n",
              "2021-02-02  128.789993  239.509995  28.540001  10.86  11.24\n",
              "2021-02-03  128.949997  243.000000  28.510000  11.20  11.20"
            ]
          },
          "metadata": {
            "tags": []
          },
          "execution_count": 16
        }
      ]
    },
    {
      "cell_type": "code",
      "metadata": {
        "id": "z660keX6UUOq"
      },
      "source": [
        "from pandas_datareader import data as wb"
      ],
      "execution_count": 20,
      "outputs": []
    },
    {
      "cell_type": "code",
      "metadata": {
        "id": "VjCCm_DIPWDV"
      },
      "source": [
        "PG = wb.DataReader('PG', data_source = 'iex', start = '2017-01-01')"
      ],
      "execution_count": null,
      "outputs": []
    },
    {
      "cell_type": "code",
      "metadata": {
        "id": "Cxc-RG-9PWGG"
      },
      "source": [
        ""
      ],
      "execution_count": null,
      "outputs": []
    }
  ]
}