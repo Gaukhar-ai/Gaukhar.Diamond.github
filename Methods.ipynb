{
  "nbformat": 4,
  "nbformat_minor": 0,
  "metadata": {
    "colab": {
      "name": "Methods.ipynb",
      "provenance": [],
      "authorship_tag": "ABX9TyN6v8Lq5FhqfSiYNc5JeDUe",
      "include_colab_link": true
    },
    "kernelspec": {
      "name": "python3",
      "display_name": "Python 3"
    }
  },
  "cells": [
    {
      "cell_type": "markdown",
      "metadata": {
        "id": "view-in-github",
        "colab_type": "text"
      },
      "source": [
        "<a href=\"https://colab.research.google.com/github/Gaukhar-ai/Gaukhar.Diamond.github/blob/master/Methods.ipynb\" target=\"_parent\"><img src=\"https://colab.research.google.com/assets/colab-badge.svg\" alt=\"Open In Colab\"/></a>"
      ]
    },
    {
      "cell_type": "code",
      "metadata": {
        "id": "__YCw0XMNEZV"
      },
      "source": [
        "#append() method "
      ],
      "execution_count": 1,
      "outputs": []
    },
    {
      "cell_type": "code",
      "metadata": {
        "id": "IParQEcbOdg7"
      },
      "source": [
        "Participants = ['Leila', \"Josh\", 'Kris']"
      ],
      "execution_count": 7,
      "outputs": []
    },
    {
      "cell_type": "code",
      "metadata": {
        "colab": {
          "base_uri": "https://localhost:8080/"
        },
        "id": "60YKjWw4OlzA",
        "outputId": "1fae87f6-3e23-4a46-eaa5-a526675bfc4f"
      },
      "source": [
        "Participants.append('Dwayne')\n",
        "Participants"
      ],
      "execution_count": 8,
      "outputs": [
        {
          "output_type": "execute_result",
          "data": {
            "text/plain": [
              "['Leila', 'Josh', 'Kris', 'Dwayne']"
            ]
          },
          "metadata": {
            "tags": []
          },
          "execution_count": 8
        }
      ]
    },
    {
      "cell_type": "code",
      "metadata": {
        "colab": {
          "base_uri": "https://localhost:8080/"
        },
        "id": "L39WEfnaOl2u",
        "outputId": "efd34149-6b80-4658-cf0a-f2524acb352d"
      },
      "source": [
        "Participants.extend(['George', \"Catherine\"])\n",
        "Participants"
      ],
      "execution_count": 9,
      "outputs": [
        {
          "output_type": "execute_result",
          "data": {
            "text/plain": [
              "['Leila', 'Josh', 'Kris', 'Dwayne', 'George', 'Catherine']"
            ]
          },
          "metadata": {
            "tags": []
          },
          "execution_count": 9
        }
      ]
    },
    {
      "cell_type": "code",
      "metadata": {
        "colab": {
          "base_uri": "https://localhost:8080/"
        },
        "id": "QGGrzl2sOl5g",
        "outputId": "72ba4899-d7fd-4d68-a52d-99882fb30a36"
      },
      "source": [
        "print('The first participant is ' + Participants[0] + '.')"
      ],
      "execution_count": 13,
      "outputs": [
        {
          "output_type": "stream",
          "text": [
            "The first participant is Leila.\n"
          ],
          "name": "stdout"
        }
      ]
    },
    {
      "cell_type": "code",
      "metadata": {
        "colab": {
          "base_uri": "https://localhost:8080/"
        },
        "id": "YjI3rtUjOl8Z",
        "outputId": "1e82d9ed-0076-461d-9fd5-2357cff67d2b"
      },
      "source": [
        "len('Dolphine') #returns the number of components also # of elements in the list"
      ],
      "execution_count": 14,
      "outputs": [
        {
          "output_type": "execute_result",
          "data": {
            "text/plain": [
              "8"
            ]
          },
          "metadata": {
            "tags": []
          },
          "execution_count": 14
        }
      ]
    },
    {
      "cell_type": "code",
      "metadata": {
        "colab": {
          "base_uri": "https://localhost:8080/"
        },
        "id": "oJ0RYFwAOl-2",
        "outputId": "8a560d92-a0a9-4bb5-efd2-73d58b64c342"
      },
      "source": [
        "len(Participants)"
      ],
      "execution_count": 15,
      "outputs": [
        {
          "output_type": "execute_result",
          "data": {
            "text/plain": [
              "6"
            ]
          },
          "metadata": {
            "tags": []
          },
          "execution_count": 15
        }
      ]
    },
    {
      "cell_type": "code",
      "metadata": {
        "id": "IMrADKLjOipi"
      },
      "source": [
        "# .method(), .append(), len(), del, .extend(), "
      ],
      "execution_count": null,
      "outputs": []
    }
  ]
}