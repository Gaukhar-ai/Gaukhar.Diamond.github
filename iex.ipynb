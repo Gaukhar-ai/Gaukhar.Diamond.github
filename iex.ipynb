{
  "nbformat": 4,
  "nbformat_minor": 0,
  "metadata": {
    "colab": {
      "name": "iex.ipynb",
      "provenance": [],
      "authorship_tag": "ABX9TyMvNSwM/qZYK42IEDIDIL+w",
      "include_colab_link": true
    },
    "kernelspec": {
      "name": "python3",
      "display_name": "Python 3"
    }
  },
  "cells": [
    {
      "cell_type": "markdown",
      "metadata": {
        "id": "view-in-github",
        "colab_type": "text"
      },
      "source": [
        "<a href=\"https://colab.research.google.com/github/Gaukhar-ai/Gaukhar.Diamond.github/blob/master/iex.ipynb\" target=\"_parent\"><img src=\"https://colab.research.google.com/assets/colab-badge.svg\" alt=\"Open In Colab\"/></a>"
      ]
    },
    {
      "cell_type": "code",
      "metadata": {
        "id": "8elvqvGteTHC"
      },
      "source": [
        "import numpy as np\r\n",
        "import pandas as pd"
      ],
      "execution_count": 1,
      "outputs": []
    },
    {
      "cell_type": "code",
      "metadata": {
        "id": "G4enJBXFekUy"
      },
      "source": [
        "from pandas_datareader import data as wb"
      ],
      "execution_count": 2,
      "outputs": []
    },
    {
      "cell_type": "code",
      "metadata": {
        "id": "Tq25XZIQengY"
      },
      "source": [
        "PG = wb.DataReader('PG', data_source='iex', start = '2019-01-01')"
      ],
      "execution_count": null,
      "outputs": []
    },
    {
      "cell_type": "code",
      "metadata": {
        "id": "4DwgVc4-ewku"
      },
      "source": [
        "PG"
      ],
      "execution_count": null,
      "outputs": []
    },
    {
      "cell_type": "code",
      "metadata": {
        "id": "MIvT76jkgH3C"
      },
      "source": [
        "tickers = ['PG', 'MSFT', 'T', 'F', 'GE']\r\n",
        "new_data = pd.DataFrame()\r\n",
        "for t in tickers:\r\n",
        "  new_data[t] = wb.DataReader(t, data_source='iex', start = '2018-1-1')['close']"
      ],
      "execution_count": null,
      "outputs": []
    },
    {
      "cell_type": "code",
      "metadata": {
        "id": "sLbpaDzrgbVf"
      },
      "source": [
        "new_data.tail()"
      ],
      "execution_count": null,
      "outputs": []
    },
    {
      "cell_type": "code",
      "metadata": {
        "id": "5ZN3DI2FgfIH"
      },
      "source": [
        ""
      ],
      "execution_count": null,
      "outputs": []
    },
    {
      "cell_type": "code",
      "metadata": {
        "id": "VpCceW06gfK8"
      },
      "source": [
        ""
      ],
      "execution_count": null,
      "outputs": []
    }
  ]
}