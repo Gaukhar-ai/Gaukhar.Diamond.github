{
  "nbformat": 4,
  "nbformat_minor": 0,
  "metadata": {
    "colab": {
      "name": "Functions.ipynb",
      "provenance": [],
      "authorship_tag": "ABX9TyM+L5muONzWY/aB3T8h01nu",
      "include_colab_link": true
    },
    "kernelspec": {
      "name": "python3",
      "display_name": "Python 3"
    }
  },
  "cells": [
    {
      "cell_type": "markdown",
      "metadata": {
        "id": "view-in-github",
        "colab_type": "text"
      },
      "source": [
        "<a href=\"https://colab.research.google.com/github/Gaukhar-ai/Gaukhar.Diamond.github/blob/master/Functions.ipynb\" target=\"_parent\"><img src=\"https://colab.research.google.com/assets/colab-badge.svg\" alt=\"Open In Colab\"/></a>"
      ]
    },
    {
      "cell_type": "code",
      "metadata": {
        "id": "5eKg84XV51Dj"
      },
      "source": [
        "def simple():\n",
        "  print('My first function')"
      ],
      "execution_count": 4,
      "outputs": []
    },
    {
      "cell_type": "code",
      "metadata": {
        "colab": {
          "base_uri": "https://localhost:8080/"
        },
        "id": "9WgevcSu6Rt9",
        "outputId": "a160e2d8-50bd-4120-e257-359ac865422c"
      },
      "source": [
        "simple()"
      ],
      "execution_count": 5,
      "outputs": [
        {
          "output_type": "stream",
          "text": [
            "My first function\n"
          ],
          "name": "stdout"
        }
      ]
    },
    {
      "cell_type": "code",
      "metadata": {
        "id": "5XzGn0UB6XVx"
      },
      "source": [
        "# def function_name(parameters):\n",
        "    #function body = print()\n",
        "    #function_name()"
      ],
      "execution_count": null,
      "outputs": []
    },
    {
      "cell_type": "code",
      "metadata": {
        "id": "qGXYdPlX6943"
      },
      "source": [
        "def plus_ten(a):\n",
        "  return a+10 #body of the function #returns the value from the function"
      ],
      "execution_count": 6,
      "outputs": []
    },
    {
      "cell_type": "code",
      "metadata": {
        "colab": {
          "base_uri": "https://localhost:8080/"
        },
        "id": "ULHGvzQP698A",
        "outputId": "4aa4cfe1-40db-4dad-c753-bba222d158f3"
      },
      "source": [
        "plus_ten(2)"
      ],
      "execution_count": 7,
      "outputs": [
        {
          "output_type": "execute_result",
          "data": {
            "text/plain": [
              "12"
            ]
          },
          "metadata": {
            "tags": []
          },
          "execution_count": 7
        }
      ]
    },
    {
      "cell_type": "code",
      "metadata": {
        "colab": {
          "base_uri": "https://localhost:8080/"
        },
        "id": "E_MQpGEd69-w",
        "outputId": "c6c13889-b058-4546-ccb3-7384beeb23b2"
      },
      "source": [
        "plus_ten(5) #(5) = argument"
      ],
      "execution_count": 8,
      "outputs": [
        {
          "output_type": "execute_result",
          "data": {
            "text/plain": [
              "15"
            ]
          },
          "metadata": {
            "tags": []
          },
          "execution_count": 8
        }
      ]
    },
    {
      "cell_type": "code",
      "metadata": {
        "id": "If_biIa_6-Bh"
      },
      "source": [
        "def plus_ten(a):\n",
        "  result = a + 10 #result = a variable\n",
        "  print('Outcome') #if return('Outcome') will just print Outcome\n",
        "  return result "
      ],
      "execution_count": 11,
      "outputs": []
    },
    {
      "cell_type": "code",
      "metadata": {
        "colab": {
          "base_uri": "https://localhost:8080/"
        },
        "id": "hcBWbcVr6-Et",
        "outputId": "e4738bc7-ecef-4fed-b761-6f32c8c84283"
      },
      "source": [
        "plus_ten(5) #can return only a sigle result"
      ],
      "execution_count": 12,
      "outputs": [
        {
          "output_type": "stream",
          "text": [
            "Outcome\n"
          ],
          "name": "stdout"
        },
        {
          "output_type": "execute_result",
          "data": {
            "text/plain": [
              "15"
            ]
          },
          "metadata": {
            "tags": []
          },
          "execution_count": 12
        }
      ]
    },
    {
      "cell_type": "code",
      "metadata": {
        "colab": {
          "base_uri": "https://localhost:8080/"
        },
        "id": "AJPkQ7xh6-Hv",
        "outputId": "78ee6d7e-5b12-4730-be89-fd8b3daa31ba"
      },
      "source": [
        "plus_ten(2)"
      ],
      "execution_count": 13,
      "outputs": [
        {
          "output_type": "stream",
          "text": [
            "Outcome\n"
          ],
          "name": "stdout"
        },
        {
          "output_type": "execute_result",
          "data": {
            "text/plain": [
              "12"
            ]
          },
          "metadata": {
            "tags": []
          },
          "execution_count": 13
        }
      ]
    },
    {
      "cell_type": "code",
      "metadata": {
        "id": "9nxHb0iE6-Kw"
      },
      "source": [
        "# Print() = doesn't affect the calculation of the output\n",
        "# Return = doesn't visualize the output. it specifies what \n",
        "# a certain function is supposed to give back"
      ],
      "execution_count": 15,
      "outputs": []
    },
    {
      "cell_type": "code",
      "metadata": {
        "id": "otqoyQNO96yG"
      },
      "source": [
        "def wage(w_hours):\n",
        "  return w_hours * 25\n",
        "def with_bonus(w_hours):\n",
        "  return wage(w_hours) + 50"
      ],
      "execution_count": 16,
      "outputs": []
    },
    {
      "cell_type": "code",
      "metadata": {
        "colab": {
          "base_uri": "https://localhost:8080/"
        },
        "id": "F54b7Efx961d",
        "outputId": "28c69f0e-7e1e-4bf1-8f9f-622a97475c84"
      },
      "source": [
        "wage(8), with_bonus(8)"
      ],
      "execution_count": 17,
      "outputs": [
        {
          "output_type": "execute_result",
          "data": {
            "text/plain": [
              "(200, 250)"
            ]
          },
          "metadata": {
            "tags": []
          },
          "execution_count": 17
        }
      ]
    },
    {
      "cell_type": "code",
      "metadata": {
        "id": "dtcioHSa964a"
      },
      "source": [
        "def salary(a_month):\n",
        "  return a_month * 15000\n",
        "def with_bonus(a_month):\n",
        "  return salary(a_month) + 200000"
      ],
      "execution_count": 28,
      "outputs": []
    },
    {
      "cell_type": "code",
      "metadata": {
        "colab": {
          "base_uri": "https://localhost:8080/"
        },
        "id": "UBUeX6ak966u",
        "outputId": "13d1415c-1e68-4e01-f8d6-da071f0d798f"
      },
      "source": [
        "salary(12), with_bonus(12)"
      ],
      "execution_count": 29,
      "outputs": [
        {
          "output_type": "execute_result",
          "data": {
            "text/plain": [
              "(180000, 380000)"
            ]
          },
          "metadata": {
            "tags": []
          },
          "execution_count": 29
        }
      ]
    },
    {
      "cell_type": "code",
      "metadata": {
        "id": "3MAz0d_797FP"
      },
      "source": [
        "#combining conditional statements and functions"
      ],
      "execution_count": 30,
      "outputs": []
    },
    {
      "cell_type": "code",
      "metadata": {
        "id": "2KsfXwmU97Ib"
      },
      "source": [
        "#if Johnny has saved at least $100 by the end of the week gets extra $10\n",
        "#if not = 0"
      ],
      "execution_count": 31,
      "outputs": []
    },
    {
      "cell_type": "code",
      "metadata": {
        "id": "ZGmHs2OX97LP"
      },
      "source": [
        "def add_10(m):\n",
        "  if m>= 100:\n",
        "    m = m + 10\n",
        "    return m \n",
        "  else:\n",
        "    return 'Save more!'"
      ],
      "execution_count": 32,
      "outputs": []
    },
    {
      "cell_type": "code",
      "metadata": {
        "colab": {
          "base_uri": "https://localhost:8080/"
        },
        "id": "EZHVkkC96-Nd",
        "outputId": "896e1ba2-3c13-40c2-8413-41a28a6fd470"
      },
      "source": [
        "add_10(110)"
      ],
      "execution_count": 33,
      "outputs": [
        {
          "output_type": "execute_result",
          "data": {
            "text/plain": [
              "120"
            ]
          },
          "metadata": {
            "tags": []
          },
          "execution_count": 33
        }
      ]
    },
    {
      "cell_type": "code",
      "metadata": {
        "colab": {
          "base_uri": "https://localhost:8080/",
          "height": 35
        },
        "id": "69WnHPmp6-Qt",
        "outputId": "19b3a58a-300d-4d1f-8e8b-09d7eead6124"
      },
      "source": [
        "add_10(50)"
      ],
      "execution_count": 34,
      "outputs": [
        {
          "output_type": "execute_result",
          "data": {
            "application/vnd.google.colaboratory.intrinsic+json": {
              "type": "string"
            },
            "text/plain": [
              "'Save more!'"
            ]
          },
          "metadata": {
            "tags": []
          },
          "execution_count": 34
        }
      ]
    },
    {
      "cell_type": "code",
      "metadata": {
        "id": "LwByfmc96-Tn"
      },
      "source": [
        "#to solve problems for me. To execute sth if there're params beyond certiin\n",
        "#limits or in the limits"
      ],
      "execution_count": null,
      "outputs": []
    },
    {
      "cell_type": "code",
      "metadata": {
        "id": "X6TsMcjqBzFu"
      },
      "source": [
        ""
      ],
      "execution_count": null,
      "outputs": []
    },
    {
      "cell_type": "code",
      "metadata": {
        "id": "cdfe3CjnBzI0"
      },
      "source": [
        ""
      ],
      "execution_count": null,
      "outputs": []
    },
    {
      "cell_type": "code",
      "metadata": {
        "id": "JcKDZMtBBzL5"
      },
      "source": [
        ""
      ],
      "execution_count": null,
      "outputs": []
    },
    {
      "cell_type": "code",
      "metadata": {
        "id": "NmJSJjHdBzO4"
      },
      "source": [
        ""
      ],
      "execution_count": null,
      "outputs": []
    },
    {
      "cell_type": "code",
      "metadata": {
        "id": "EMW2EXm9BzRp"
      },
      "source": [
        ""
      ],
      "execution_count": null,
      "outputs": []
    },
    {
      "cell_type": "code",
      "metadata": {
        "id": "u04e-buNBzUd"
      },
      "source": [
        ""
      ],
      "execution_count": null,
      "outputs": []
    },
    {
      "cell_type": "code",
      "metadata": {
        "id": "XpYiWe3zBzXY"
      },
      "source": [
        ""
      ],
      "execution_count": null,
      "outputs": []
    },
    {
      "cell_type": "code",
      "metadata": {
        "id": "O-P-mpGjBzaV"
      },
      "source": [
        ""
      ],
      "execution_count": null,
      "outputs": []
    }
  ]
}