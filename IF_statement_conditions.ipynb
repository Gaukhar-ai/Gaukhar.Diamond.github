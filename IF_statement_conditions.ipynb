{
  "nbformat": 4,
  "nbformat_minor": 0,
  "metadata": {
    "colab": {
      "name": "IF_statement_conditions.ipynb",
      "provenance": [],
      "collapsed_sections": [],
      "authorship_tag": "ABX9TyPNGYbUs/85yZasTDi62pHv",
      "include_colab_link": true
    },
    "kernelspec": {
      "name": "python3",
      "display_name": "Python 3"
    }
  },
  "cells": [
    {
      "cell_type": "markdown",
      "metadata": {
        "id": "view-in-github",
        "colab_type": "text"
      },
      "source": [
        "<a href=\"https://colab.research.google.com/github/Gaukhar-ai/Gaukhar.Diamond.github/blob/master/IF_statement_conditions.ipynb\" target=\"_parent\"><img src=\"https://colab.research.google.com/assets/colab-badge.svg\" alt=\"Open In Colab\"/></a>"
      ]
    },
    {
      "cell_type": "code",
      "metadata": {
        "colab": {
          "base_uri": "https://localhost:8080/"
        },
        "id": "ZrnhK-_0cysc",
        "outputId": "bbf2220f-8e13-42b4-f7de-5b5f80c71875"
      },
      "source": [
        "if 5 == 15/3:\n",
        "  print('Hooray')"
      ],
      "execution_count": 1,
      "outputs": [
        {
          "output_type": "stream",
          "text": [
            "Hooray\n"
          ],
          "name": "stdout"
        }
      ]
    },
    {
      "cell_type": "code",
      "metadata": {
        "id": "uxTzA3u-dHCE"
      },
      "source": [
        "if 5 == 18/3:\n",
        "  print(\"Hooray\")"
      ],
      "execution_count": 2,
      "outputs": []
    },
    {
      "cell_type": "code",
      "metadata": {
        "colab": {
          "base_uri": "https://localhost:8080/"
        },
        "id": "MnXmeL8DdON1",
        "outputId": "da83a552-5ca1-498b-b226-f9e13b925061"
      },
      "source": [
        "if 5!=3*6:\n",
        "  print('Hooray')"
      ],
      "execution_count": 3,
      "outputs": [
        {
          "output_type": "stream",
          "text": [
            "Hooray\n"
          ],
          "name": "stdout"
        }
      ]
    },
    {
      "cell_type": "code",
      "metadata": {
        "colab": {
          "base_uri": "https://localhost:8080/"
        },
        "id": "kuU0rLKedcXs",
        "outputId": "a0c1d05d-6377-4a2b-eeef-c799dcbd1acf"
      },
      "source": [
        "x = 1\n",
        "if x > 3:\n",
        "  print('Case 1')\n",
        "if x <=3:\n",
        "  print('Case 2')"
      ],
      "execution_count": 5,
      "outputs": [
        {
          "output_type": "stream",
          "text": [
            "Case 2\n"
          ],
          "name": "stdout"
        }
      ]
    },
    {
      "cell_type": "code",
      "metadata": {
        "colab": {
          "base_uri": "https://localhost:8080/"
        },
        "id": "N-Zses9c6Rwu",
        "outputId": "d0995ed8-80d2-49cd-9a79-eb8978d0204e"
      },
      "source": [
        "x = 1\n",
        "if x > 3:\n",
        "  print('Case 1')\n",
        "else:\n",
        "  print('Case 2')"
      ],
      "execution_count": 6,
      "outputs": [
        {
          "output_type": "stream",
          "text": [
            "Case 2\n"
          ],
          "name": "stdout"
        }
      ]
    },
    {
      "cell_type": "code",
      "metadata": {
        "id": "Cr7yqJab7M9X"
      },
      "source": [
        "def compare_to_five(y):\n",
        "  if y > 5:\n",
        "    return('Greater')\n",
        "  elif y < 0:\n",
        "    return('Negative')\n",
        "  elif y <5:\n",
        "    return('Less')\n",
        "  else:\n",
        "    return('Equal')"
      ],
      "execution_count": 11,
      "outputs": []
    },
    {
      "cell_type": "code",
      "metadata": {
        "colab": {
          "base_uri": "https://localhost:8080/"
        },
        "id": "evJioSfG7dWJ",
        "outputId": "1f479597-61a4-4842-8517-803732849f21"
      },
      "source": [
        "print(compare_to_five(10))"
      ],
      "execution_count": 8,
      "outputs": [
        {
          "output_type": "stream",
          "text": [
            "Greater\n"
          ],
          "name": "stdout"
        }
      ]
    },
    {
      "cell_type": "code",
      "metadata": {
        "colab": {
          "base_uri": "https://localhost:8080/"
        },
        "id": "3KVLR-io7dZO",
        "outputId": "a31cbb10-4983-4e8a-8075-11de037a478f"
      },
      "source": [
        "print(compare_to_five(2))"
      ],
      "execution_count": 9,
      "outputs": [
        {
          "output_type": "stream",
          "text": [
            "Less\n"
          ],
          "name": "stdout"
        }
      ]
    },
    {
      "cell_type": "code",
      "metadata": {
        "colab": {
          "base_uri": "https://localhost:8080/"
        },
        "id": "UTzOb33Q7dcQ",
        "outputId": "26aedaa4-e60d-43e6-c8b6-beaa659bb2c6"
      },
      "source": [
        "print(compare_to_five(5))"
      ],
      "execution_count": 10,
      "outputs": [
        {
          "output_type": "stream",
          "text": [
            "Equal\n"
          ],
          "name": "stdout"
        }
      ]
    },
    {
      "cell_type": "code",
      "metadata": {
        "colab": {
          "base_uri": "https://localhost:8080/"
        },
        "id": "wiqrQ9Q77dfQ",
        "outputId": "7634108b-1a75-4077-8d24-ba475ba09c2d"
      },
      "source": [
        "print(compare_to_five(-2))"
      ],
      "execution_count": 12,
      "outputs": [
        {
          "output_type": "stream",
          "text": [
            "Negative\n"
          ],
          "name": "stdout"
        }
      ]
    },
    {
      "cell_type": "code",
      "metadata": {
        "id": "QVDabRkG7diQ"
      },
      "source": [
        "def compare_to_five(y):\n",
        "  if y>5:\n",
        "    return(\"Greater\")\n",
        "  elif y<5:\n",
        "    return('Less')\n",
        "  elif y<5:\n",
        "    return('Negative')\n",
        "  else:\n",
        "    return('Equal')"
      ],
      "execution_count": 13,
      "outputs": []
    },
    {
      "cell_type": "code",
      "metadata": {
        "colab": {
          "base_uri": "https://localhost:8080/"
        },
        "id": "AHvEFdn77dlY",
        "outputId": "6f6027ae-9d95-45bf-e680-6917ba9b9f7a"
      },
      "source": [
        "print(compare_to_five(8))"
      ],
      "execution_count": 14,
      "outputs": [
        {
          "output_type": "stream",
          "text": [
            "Greater\n"
          ],
          "name": "stdout"
        }
      ]
    },
    {
      "cell_type": "code",
      "metadata": {
        "colab": {
          "base_uri": "https://localhost:8080/"
        },
        "id": "jeng79Zw7doM",
        "outputId": "4cedc42c-6698-4d90-8c4c-f49238ffea0f"
      },
      "source": [
        "print(compare_to_five(-3))\n",
        "#doesn't go to the negative cuz less is before the "
      ],
      "execution_count": 15,
      "outputs": [
        {
          "output_type": "stream",
          "text": [
            "Less\n"
          ],
          "name": "stdout"
        }
      ]
    },
    {
      "cell_type": "code",
      "metadata": {
        "colab": {
          "base_uri": "https://localhost:8080/"
        },
        "id": "LmRvsZ3l7drW",
        "outputId": "0c938dcb-970d-41df-995d-7c80fac5ad2d"
      },
      "source": [
        "x = 2\n",
        "if x > 4:\n",
        "  print('Correct')\n",
        "else:\n",
        "  print('Incorrect')"
      ],
      "execution_count": 16,
      "outputs": [
        {
          "output_type": "stream",
          "text": [
            "Incorrect\n"
          ],
          "name": "stdout"
        }
      ]
    },
    {
      "cell_type": "code",
      "metadata": {
        "colab": {
          "base_uri": "https://localhost:8080/"
        },
        "id": "C9wS9sXu7duO",
        "outputId": "5e812256-29f3-44a4-a793-fabe1ccd03d9"
      },
      "source": [
        "x = 2\n",
        "if x > 1:\n",
        "  print('Correct')\n",
        "else:\n",
        "  print('Incorrect')"
      ],
      "execution_count": 17,
      "outputs": [
        {
          "output_type": "stream",
          "text": [
            "Correct\n"
          ],
          "name": "stdout"
        }
      ]
    },
    {
      "cell_type": "code",
      "metadata": {
        "id": "0Jjf4yK37dxZ"
      },
      "source": [
        ""
      ],
      "execution_count": null,
      "outputs": []
    },
    {
      "cell_type": "code",
      "metadata": {
        "id": "FP4Wto2k7dz1"
      },
      "source": [
        ""
      ],
      "execution_count": null,
      "outputs": []
    }
  ]
}