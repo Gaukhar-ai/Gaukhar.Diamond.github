{
  "nbformat": 4,
  "nbformat_minor": 0,
  "metadata": {
    "colab": {
      "name": "List_Slicing.ipynb",
      "provenance": [],
      "authorship_tag": "ABX9TyNzLND20PfN3RBFz5HBJe6a",
      "include_colab_link": true
    },
    "kernelspec": {
      "name": "python3",
      "display_name": "Python 3"
    }
  },
  "cells": [
    {
      "cell_type": "markdown",
      "metadata": {
        "id": "view-in-github",
        "colab_type": "text"
      },
      "source": [
        "<a href=\"https://colab.research.google.com/github/Gaukhar-ai/Gaukhar.Diamond.github/blob/master/List_Slicing.ipynb\" target=\"_parent\"><img src=\"https://colab.research.google.com/assets/colab-badge.svg\" alt=\"Open In Colab\"/></a>"
      ]
    },
    {
      "cell_type": "code",
      "metadata": {
        "id": "4XtgqtRr9mkp"
      },
      "source": [
        "Participants = ['John', 'Leila', 'Maria', 'Dwayne', 'George', \"Cath\"]"
      ],
      "execution_count": 1,
      "outputs": []
    },
    {
      "cell_type": "code",
      "metadata": {
        "colab": {
          "base_uri": "https://localhost:8080/"
        },
        "id": "fQUCc6D6JvVY",
        "outputId": "3ee76d36-009f-4b5c-cedb-43d8392d2abe"
      },
      "source": [
        "Participants"
      ],
      "execution_count": 2,
      "outputs": [
        {
          "output_type": "execute_result",
          "data": {
            "text/plain": [
              "['John', 'Leila', 'Maria', 'Dwayne', 'George', 'Cath']"
            ]
          },
          "metadata": {
            "tags": []
          },
          "execution_count": 2
        }
      ]
    },
    {
      "cell_type": "code",
      "metadata": {
        "colab": {
          "base_uri": "https://localhost:8080/"
        },
        "id": "sgDea99XJwPr",
        "outputId": "298620f7-d75c-41ec-fb58-6939f7f6a22b"
      },
      "source": [
        "Participants[1:3]"
      ],
      "execution_count": 3,
      "outputs": [
        {
          "output_type": "execute_result",
          "data": {
            "text/plain": [
              "['Leila', 'Maria']"
            ]
          },
          "metadata": {
            "tags": []
          },
          "execution_count": 3
        }
      ]
    },
    {
      "cell_type": "code",
      "metadata": {
        "colab": {
          "base_uri": "https://localhost:8080/"
        },
        "id": "ziCQ8wBvJymL",
        "outputId": "fe299fae-3bf5-4e37-8211-bc2b8aeaab2f"
      },
      "source": [
        "Participants[2:5]"
      ],
      "execution_count": 4,
      "outputs": [
        {
          "output_type": "execute_result",
          "data": {
            "text/plain": [
              "['Maria', 'Dwayne', 'George']"
            ]
          },
          "metadata": {
            "tags": []
          },
          "execution_count": 4
        }
      ]
    },
    {
      "cell_type": "code",
      "metadata": {
        "colab": {
          "base_uri": "https://localhost:8080/"
        },
        "id": "yd8kLS53J9DL",
        "outputId": "3ae01a98-a5a8-47e0-9891-c497bd321bf1"
      },
      "source": [
        "Participants[:3]"
      ],
      "execution_count": 5,
      "outputs": [
        {
          "output_type": "execute_result",
          "data": {
            "text/plain": [
              "['John', 'Leila', 'Maria']"
            ]
          },
          "metadata": {
            "tags": []
          },
          "execution_count": 5
        }
      ]
    },
    {
      "cell_type": "code",
      "metadata": {
        "colab": {
          "base_uri": "https://localhost:8080/"
        },
        "id": "rxHODlQaKAeJ",
        "outputId": "ff31fb9a-ada9-4be1-ac6d-474cd247897c"
      },
      "source": [
        "Participants[4:]"
      ],
      "execution_count": 6,
      "outputs": [
        {
          "output_type": "execute_result",
          "data": {
            "text/plain": [
              "['George', 'Cath']"
            ]
          },
          "metadata": {
            "tags": []
          },
          "execution_count": 6
        }
      ]
    },
    {
      "cell_type": "code",
      "metadata": {
        "colab": {
          "base_uri": "https://localhost:8080/"
        },
        "id": "DTg3E1qnKCXq",
        "outputId": "1e0e6ce2-5db4-4f54-bfd9-7ddb340cef0a"
      },
      "source": [
        "Participants[-2:]"
      ],
      "execution_count": 7,
      "outputs": [
        {
          "output_type": "execute_result",
          "data": {
            "text/plain": [
              "['George', 'Cath']"
            ]
          },
          "metadata": {
            "tags": []
          },
          "execution_count": 7
        }
      ]
    },
    {
      "cell_type": "code",
      "metadata": {
        "colab": {
          "base_uri": "https://localhost:8080/"
        },
        "id": "vuyDiFtNKHDb",
        "outputId": "013660be-5b31-4157-a256-93c7bae08f86"
      },
      "source": [
        "Participants.index('Maria')"
      ],
      "execution_count": 8,
      "outputs": [
        {
          "output_type": "execute_result",
          "data": {
            "text/plain": [
              "2"
            ]
          },
          "metadata": {
            "tags": []
          },
          "execution_count": 8
        }
      ]
    },
    {
      "cell_type": "code",
      "metadata": {
        "colab": {
          "base_uri": "https://localhost:8080/"
        },
        "id": "u9T-8EFiKMdg",
        "outputId": "7117e470-73cb-4854-83ec-a17681c384ef"
      },
      "source": [
        "Newcomers=[\"Josh\", \"Brittany\"]\n",
        "Newcomers"
      ],
      "execution_count": 9,
      "outputs": [
        {
          "output_type": "execute_result",
          "data": {
            "text/plain": [
              "['Josh', 'Brittany']"
            ]
          },
          "metadata": {
            "tags": []
          },
          "execution_count": 9
        }
      ]
    },
    {
      "cell_type": "code",
      "metadata": {
        "colab": {
          "base_uri": "https://localhost:8080/"
        },
        "id": "Y7HMxQxhKXvQ",
        "outputId": "bbfcddf3-c093-46fd-8caa-a3fd9314c5ce"
      },
      "source": [
        "Bigger_List = [Participants, Newcomers]\n",
        "Bigger_List"
      ],
      "execution_count": 10,
      "outputs": [
        {
          "output_type": "execute_result",
          "data": {
            "text/plain": [
              "[['John', 'Leila', 'Maria', 'Dwayne', 'George', 'Cath'], ['Josh', 'Brittany']]"
            ]
          },
          "metadata": {
            "tags": []
          },
          "execution_count": 10
        }
      ]
    },
    {
      "cell_type": "code",
      "metadata": {
        "colab": {
          "base_uri": "https://localhost:8080/"
        },
        "id": "cIW3WuuvKd4n",
        "outputId": "8303c8b9-cc8a-4662-f4c8-15c47a0ccf4a"
      },
      "source": [
        "Participants.sort() #alphabetically\n",
        "Participants"
      ],
      "execution_count": 12,
      "outputs": [
        {
          "output_type": "execute_result",
          "data": {
            "text/plain": [
              "['Cath', 'Dwayne', 'George', 'John', 'Leila', 'Maria']"
            ]
          },
          "metadata": {
            "tags": []
          },
          "execution_count": 12
        }
      ]
    },
    {
      "cell_type": "code",
      "metadata": {
        "colab": {
          "base_uri": "https://localhost:8080/"
        },
        "id": "ZG-4gqLUKhHc",
        "outputId": "993deb3b-f7bf-4785-9832-564b841a9341"
      },
      "source": [
        "Numbers = [1,2,3,4,5]\n",
        "Numbers.sort()\n",
        "Numbers"
      ],
      "execution_count": 13,
      "outputs": [
        {
          "output_type": "execute_result",
          "data": {
            "text/plain": [
              "[1, 2, 3, 4, 5]"
            ]
          },
          "metadata": {
            "tags": []
          },
          "execution_count": 13
        }
      ]
    },
    {
      "cell_type": "code",
      "metadata": {
        "colab": {
          "base_uri": "https://localhost:8080/"
        },
        "id": "hWXd4V3hKhKl",
        "outputId": "6cfb4aa0-cf67-486f-d1b6-45feb9abf2f8"
      },
      "source": [
        "Numbers.sort(reverse=True)\n",
        "Numbers"
      ],
      "execution_count": 14,
      "outputs": [
        {
          "output_type": "execute_result",
          "data": {
            "text/plain": [
              "[5, 4, 3, 2, 1]"
            ]
          },
          "metadata": {
            "tags": []
          },
          "execution_count": 14
        }
      ]
    },
    {
      "cell_type": "code",
      "metadata": {
        "id": "9JthyqkaKhNd"
      },
      "source": [
        ""
      ],
      "execution_count": null,
      "outputs": []
    },
    {
      "cell_type": "code",
      "metadata": {
        "id": "vjlkZbzeKhQI"
      },
      "source": [
        ""
      ],
      "execution_count": null,
      "outputs": []
    },
    {
      "cell_type": "code",
      "metadata": {
        "id": "pgC8zH74KhTB"
      },
      "source": [
        ""
      ],
      "execution_count": null,
      "outputs": []
    },
    {
      "cell_type": "code",
      "metadata": {
        "id": "XlRVlf-8KhVw"
      },
      "source": [
        ""
      ],
      "execution_count": null,
      "outputs": []
    },
    {
      "cell_type": "code",
      "metadata": {
        "id": "n4lQ_98FKhYo"
      },
      "source": [
        ""
      ],
      "execution_count": null,
      "outputs": []
    },
    {
      "cell_type": "code",
      "metadata": {
        "id": "Q4_b5c8rKhbp"
      },
      "source": [
        ""
      ],
      "execution_count": null,
      "outputs": []
    }
  ]
}