{
  "nbformat": 4,
  "nbformat_minor": 0,
  "metadata": {
    "colab": {
      "name": "Dictionaries.ipynb",
      "provenance": [],
      "authorship_tag": "ABX9TyNybpz4LsuQ8WWHycU/tbWe",
      "include_colab_link": true
    },
    "kernelspec": {
      "name": "python3",
      "display_name": "Python 3"
    }
  },
  "cells": [
    {
      "cell_type": "markdown",
      "metadata": {
        "id": "view-in-github",
        "colab_type": "text"
      },
      "source": [
        "<a href=\"https://colab.research.google.com/github/Gaukhar-ai/Gaukhar.Diamond.github/blob/master/Dictionaries.ipynb\" target=\"_parent\"><img src=\"https://colab.research.google.com/assets/colab-badge.svg\" alt=\"Open In Colab\"/></a>"
      ]
    },
    {
      "cell_type": "code",
      "metadata": {
        "colab": {
          "base_uri": "https://localhost:8080/"
        },
        "id": "m7qQeU_WQM7o",
        "outputId": "2f9b7794-25e4-4d98-ed6e-a8cbff24ac72"
      },
      "source": [
        "dict = {'k1': 'cat', 'k2': 'mouse', 'k3': 'god', 'k4': 'dog'}\n",
        "dict"
      ],
      "execution_count": 1,
      "outputs": [
        {
          "output_type": "execute_result",
          "data": {
            "text/plain": [
              "{'k1': 'cat', 'k2': 'mouse', 'k3': 'god', 'k4': 'dog'}"
            ]
          },
          "metadata": {
            "tags": []
          },
          "execution_count": 1
        }
      ]
    },
    {
      "cell_type": "code",
      "metadata": {
        "id": "5e0G4GZBQefp"
      },
      "source": [
        "#key - value pair"
      ],
      "execution_count": 2,
      "outputs": []
    },
    {
      "cell_type": "code",
      "metadata": {
        "colab": {
          "base_uri": "https://localhost:8080/",
          "height": 35
        },
        "id": "FrW2wEpZQklm",
        "outputId": "881fe8b3-7848-42fd-ab3a-b9694c0ccdcc"
      },
      "source": [
        "dict['k1']"
      ],
      "execution_count": 3,
      "outputs": [
        {
          "output_type": "execute_result",
          "data": {
            "application/vnd.google.colaboratory.intrinsic+json": {
              "type": "string"
            },
            "text/plain": [
              "'cat'"
            ]
          },
          "metadata": {
            "tags": []
          },
          "execution_count": 3
        }
      ]
    },
    {
      "cell_type": "code",
      "metadata": {
        "colab": {
          "base_uri": "https://localhost:8080/",
          "height": 35
        },
        "id": "0Lq2YBfRQlSd",
        "outputId": "5152f98e-1fb5-429b-f14e-d5077d212966"
      },
      "source": [
        "dict['k2']"
      ],
      "execution_count": 4,
      "outputs": [
        {
          "output_type": "execute_result",
          "data": {
            "application/vnd.google.colaboratory.intrinsic+json": {
              "type": "string"
            },
            "text/plain": [
              "'mouse'"
            ]
          },
          "metadata": {
            "tags": []
          },
          "execution_count": 4
        }
      ]
    },
    {
      "cell_type": "code",
      "metadata": {
        "colab": {
          "base_uri": "https://localhost:8080/"
        },
        "id": "GIkXB0pbQlVB",
        "outputId": "42910f5c-e547-468a-fbe4-e9bc03c006f2"
      },
      "source": [
        "dict[\"k5\"] = 'parrot'\n",
        "dict"
      ],
      "execution_count": 5,
      "outputs": [
        {
          "output_type": "execute_result",
          "data": {
            "text/plain": [
              "{'k1': 'cat', 'k2': 'mouse', 'k3': 'god', 'k4': 'dog', 'k5': 'parrot'}"
            ]
          },
          "metadata": {
            "tags": []
          },
          "execution_count": 5
        }
      ]
    },
    {
      "cell_type": "code",
      "metadata": {
        "colab": {
          "base_uri": "https://localhost:8080/"
        },
        "id": "oodHQZ6_QlX_",
        "outputId": "2343e382-344c-4f76-f2bd-9b7ab5f55653"
      },
      "source": [
        "dict['k2'] = 'squirrel'\n",
        "dict"
      ],
      "execution_count": 6,
      "outputs": [
        {
          "output_type": "execute_result",
          "data": {
            "text/plain": [
              "{'k1': 'cat', 'k2': 'squirrel', 'k3': 'god', 'k4': 'dog', 'k5': 'parrot'}"
            ]
          },
          "metadata": {
            "tags": []
          },
          "execution_count": 6
        }
      ]
    },
    {
      "cell_type": "code",
      "metadata": {
        "colab": {
          "base_uri": "https://localhost:8080/"
        },
        "id": "JjVrjYr5QlbB",
        "outputId": "f1d5985e-8c08-43d2-edbc-0635f69f11d0"
      },
      "source": [
        "dep_workers = {'dep_1': 'Peter', 'dep_2': ['Josh', 'Kate', 'Snow']}\n",
        "dep_workers"
      ],
      "execution_count": 7,
      "outputs": [
        {
          "output_type": "execute_result",
          "data": {
            "text/plain": [
              "{'dep_1': 'Peter', 'dep_2': ['Josh', 'Kate', 'Snow']}"
            ]
          },
          "metadata": {
            "tags": []
          },
          "execution_count": 7
        }
      ]
    },
    {
      "cell_type": "code",
      "metadata": {
        "colab": {
          "base_uri": "https://localhost:8080/"
        },
        "id": "vqeYtU8OQlkT",
        "outputId": "465b6cd6-01e8-4bbe-d077-42ada9b5e2cd"
      },
      "source": [
        "dep_workers['dep_2']"
      ],
      "execution_count": 11,
      "outputs": [
        {
          "output_type": "execute_result",
          "data": {
            "text/plain": [
              "['Josh', 'Kate', 'Snow']"
            ]
          },
          "metadata": {
            "tags": []
          },
          "execution_count": 11
        }
      ]
    },
    {
      "cell_type": "code",
      "metadata": {
        "id": "0IGXYFZFQld5"
      },
      "source": [
        "Team = {}\n",
        "Team[\"Point Guard\"] = 'Dirk'\n",
        "Team[\"Shooting Guard\"] = 'Al'\n",
        "Team['Small Forward'] = 'Sean'\n",
        "Team['Power Forward'] = 'Alexander'\n",
        "Team['Center'] = 'Hector'"
      ],
      "execution_count": 8,
      "outputs": []
    },
    {
      "cell_type": "code",
      "metadata": {
        "colab": {
          "base_uri": "https://localhost:8080/"
        },
        "id": "Tk4nJ3JHQlhK",
        "outputId": "c34197ea-83da-4390-ad65-43103770f343"
      },
      "source": [
        "print(Team)"
      ],
      "execution_count": 9,
      "outputs": [
        {
          "output_type": "stream",
          "text": [
            "{'Point Guard': 'Dirk', 'Shooting Guard': 'Al', 'Small Forward': 'Sean', 'Power Forward': 'Alexander', 'Center': 'Hector'}\n"
          ],
          "name": "stdout"
        }
      ]
    },
    {
      "cell_type": "code",
      "metadata": {
        "colab": {
          "base_uri": "https://localhost:8080/"
        },
        "id": "bYfHvLCfQloB",
        "outputId": "eeca374a-c5b2-4331-efe0-e5460e22d45f"
      },
      "source": [
        "print(Team['Center'])"
      ],
      "execution_count": 13,
      "outputs": [
        {
          "output_type": "stream",
          "text": [
            "Hector\n"
          ],
          "name": "stdout"
        }
      ]
    },
    {
      "cell_type": "code",
      "metadata": {
        "colab": {
          "base_uri": "https://localhost:8080/"
        },
        "id": "lVVcJusGQlr1",
        "outputId": "33e23fbf-5b70-472e-a1b8-92b55705da03"
      },
      "source": [
        "print(Team.get('Small Forward'))"
      ],
      "execution_count": 14,
      "outputs": [
        {
          "output_type": "stream",
          "text": [
            "Sean\n"
          ],
          "name": "stdout"
        }
      ]
    },
    {
      "cell_type": "code",
      "metadata": {
        "colab": {
          "base_uri": "https://localhost:8080/"
        },
        "id": "GljYvdcxQlvJ",
        "outputId": "be2b50ad-3a65-48ae-e674-ed92a9562b94"
      },
      "source": [
        "print(Team.get('Coach'))"
      ],
      "execution_count": 15,
      "outputs": [
        {
          "output_type": "stream",
          "text": [
            "None\n"
          ],
          "name": "stdout"
        }
      ]
    },
    {
      "cell_type": "code",
      "metadata": {
        "id": "-Fit4clmQlyO"
      },
      "source": [
        ""
      ],
      "execution_count": null,
      "outputs": []
    },
    {
      "cell_type": "code",
      "metadata": {
        "id": "YRfpyPnKQl1T"
      },
      "source": [
        ""
      ],
      "execution_count": null,
      "outputs": []
    },
    {
      "cell_type": "code",
      "metadata": {
        "id": "noCef5YhQl4R"
      },
      "source": [
        ""
      ],
      "execution_count": null,
      "outputs": []
    }
  ]
}