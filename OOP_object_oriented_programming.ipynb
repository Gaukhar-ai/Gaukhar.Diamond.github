{
  "nbformat": 4,
  "nbformat_minor": 0,
  "metadata": {
    "colab": {
      "name": "OOP-object_oriented_programming.ipynb",
      "provenance": [],
      "authorship_tag": "ABX9TyM+yfGuDfBsT675s61b4KBO",
      "include_colab_link": true
    },
    "kernelspec": {
      "name": "python3",
      "display_name": "Python 3"
    }
  },
  "cells": [
    {
      "cell_type": "markdown",
      "metadata": {
        "id": "view-in-github",
        "colab_type": "text"
      },
      "source": [
        "<a href=\"https://colab.research.google.com/github/Gaukhar-ai/Gaukhar.Diamond.github/blob/master/OOP_object_oriented_programming.ipynb\" target=\"_parent\"><img src=\"https://colab.research.google.com/assets/colab-badge.svg\" alt=\"Open In Colab\"/></a>"
      ]
    },
    {
      "cell_type": "code",
      "metadata": {
        "id": "RjgakdDWQOFo"
      },
      "source": [
        "#Object Oriented Programming OOP"
      ],
      "execution_count": 1,
      "outputs": []
    },
    {
      "cell_type": "markdown",
      "metadata": {
        "id": "g2dcgJd0QtWm"
      },
      "source": [
        "Objects: floats, integers, strings, lists.\n",
        "\n",
        "JAVA, php, python, c++ support OOP.\n",
        "\n",
        "List_march = 31 data points\n",
        "gallery = {names+place}\n",
        "\n",
        "Object = data + manipulation operations.\n",
        "Each object belongs to Class, defines the rules for creating that object. \n",
        "Mike = 'Bike-makers' class. Bike belongs to bike-makers class. Attributes: color, size, type.\n",
        "Method: .turn_left(), .turn_right(), .slow_down(), .accelerate()\n",
        "\n",
        "List class. type of data: floats .extend() or .index()\n",
        "\n",
        "Function vs Method.\n",
        "Method is a special function, has params of various types, and the object is one of its params.\n",
        "- belongs to a certain class. \n",
        "Function can have many params and exists on its own. \n",
        "function() vs object.method()"
      ]
    },
    {
      "cell_type": "code",
      "metadata": {
        "id": "8Oz6zQFvQgmB"
      },
      "source": [
        "#What is a module? - Pre-written code containing definitions of functions\n",
        "#and classes. "
      ],
      "execution_count": 2,
      "outputs": []
    },
    {
      "cell_type": "code",
      "metadata": {
        "id": "u-X0cT7_Qg_J"
      },
      "source": [
        "#What is a package? - a collection or directory of related Python modules\n",
        "\n"
      ],
      "execution_count": 3,
      "outputs": []
    },
    {
      "cell_type": "code",
      "metadata": {
        "id": "844-k4lmQhCh"
      },
      "source": [
        "#python's standart library."
      ],
      "execution_count": 4,
      "outputs": []
    },
    {
      "cell_type": "code",
      "metadata": {
        "id": "jozOuxNrQhFq"
      },
      "source": [
        "#import a module:\n",
        "#sqrt()"
      ],
      "execution_count": null,
      "outputs": []
    },
    {
      "cell_type": "code",
      "metadata": {
        "id": "ErXck-tMQhIt"
      },
      "source": [
        ""
      ],
      "execution_count": null,
      "outputs": []
    },
    {
      "cell_type": "code",
      "metadata": {
        "id": "tYxraIU1QhLs"
      },
      "source": [
        ""
      ],
      "execution_count": null,
      "outputs": []
    },
    {
      "cell_type": "code",
      "metadata": {
        "id": "Sfdu4dcgQhOU"
      },
      "source": [
        ""
      ],
      "execution_count": null,
      "outputs": []
    },
    {
      "cell_type": "code",
      "metadata": {
        "id": "yFPb5LOKQhRY"
      },
      "source": [
        ""
      ],
      "execution_count": null,
      "outputs": []
    },
    {
      "cell_type": "code",
      "metadata": {
        "id": "yr7rd1afQhUI"
      },
      "source": [
        ""
      ],
      "execution_count": null,
      "outputs": []
    },
    {
      "cell_type": "code",
      "metadata": {
        "id": "ImzciqYGQhXP"
      },
      "source": [
        ""
      ],
      "execution_count": null,
      "outputs": []
    },
    {
      "cell_type": "code",
      "metadata": {
        "id": "_hbH1xoDQhaQ"
      },
      "source": [
        ""
      ],
      "execution_count": null,
      "outputs": []
    },
    {
      "cell_type": "code",
      "metadata": {
        "id": "FKnIyo6gQhdW"
      },
      "source": [
        ""
      ],
      "execution_count": null,
      "outputs": []
    },
    {
      "cell_type": "code",
      "metadata": {
        "id": "vY3WYPBbQhgc"
      },
      "source": [
        ""
      ],
      "execution_count": null,
      "outputs": []
    },
    {
      "cell_type": "code",
      "metadata": {
        "id": "iYMpdNkDQhjT"
      },
      "source": [
        ""
      ],
      "execution_count": null,
      "outputs": []
    },
    {
      "cell_type": "code",
      "metadata": {
        "id": "3dTpFyNdQhmf"
      },
      "source": [
        ""
      ],
      "execution_count": null,
      "outputs": []
    },
    {
      "cell_type": "code",
      "metadata": {
        "id": "k58eYx1qQhpd"
      },
      "source": [
        ""
      ],
      "execution_count": null,
      "outputs": []
    }
  ]
}