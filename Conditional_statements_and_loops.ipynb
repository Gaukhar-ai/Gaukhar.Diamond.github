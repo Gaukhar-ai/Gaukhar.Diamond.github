{
  "nbformat": 4,
  "nbformat_minor": 0,
  "metadata": {
    "colab": {
      "name": "Conditional_statements_and_loops.ipynb",
      "provenance": [],
      "authorship_tag": "ABX9TyOEGYqvHqCGzayFdIAJ8vDb",
      "include_colab_link": true
    },
    "kernelspec": {
      "name": "python3",
      "display_name": "Python 3"
    }
  },
  "cells": [
    {
      "cell_type": "markdown",
      "metadata": {
        "id": "view-in-github",
        "colab_type": "text"
      },
      "source": [
        "<a href=\"https://colab.research.google.com/github/Gaukhar-ai/Gaukhar.Diamond.github/blob/master/Conditional_statements_and_loops.ipynb\" target=\"_parent\"><img src=\"https://colab.research.google.com/assets/colab-badge.svg\" alt=\"Open In Colab\"/></a>"
      ]
    },
    {
      "cell_type": "code",
      "metadata": {
        "colab": {
          "base_uri": "https://localhost:8080/"
        },
        "id": "6ZKCYDsJKzyJ",
        "outputId": "3c638a85-eb9c-4e48-90b5-67553df7bd21"
      },
      "source": [
        "for n in range(10):\n",
        "  print(2**n, end = ' ')\n",
        "  "
      ],
      "execution_count": 1,
      "outputs": [
        {
          "output_type": "stream",
          "text": [
            "1 2 4 8 16 32 64 128 256 512 "
          ],
          "name": "stdout"
        }
      ]
    },
    {
      "cell_type": "code",
      "metadata": {
        "colab": {
          "base_uri": "https://localhost:8080/"
        },
        "id": "D53MdmAnLKk8",
        "outputId": "c6b1297c-3fef-41b7-9405-3bbc74a9131d"
      },
      "source": [
        "for x in range(20):\n",
        "  if x % 2 == 0:\n",
        "    print(x, end = ' ')\n",
        "  else:\n",
        "    print('Odd', end = ' ')"
      ],
      "execution_count": 2,
      "outputs": [
        {
          "output_type": "stream",
          "text": [
            "0 Odd 2 Odd 4 Odd 6 Odd 8 Odd 10 Odd 12 Odd 14 Odd 16 Odd 18 Odd "
          ],
          "name": "stdout"
        }
      ]
    },
    {
      "cell_type": "code",
      "metadata": {
        "id": "KioYSMeALTOM"
      },
      "source": [
        "x = [0,1,2]"
      ],
      "execution_count": 3,
      "outputs": []
    },
    {
      "cell_type": "code",
      "metadata": {
        "colab": {
          "base_uri": "https://localhost:8080/"
        },
        "id": "zJqDprRcLfby",
        "outputId": "94df5c71-f8f9-49de-a4ce-c5b65f10515e"
      },
      "source": [
        "for item in x:\n",
        "  print(item, end = ' ')"
      ],
      "execution_count": 4,
      "outputs": [
        {
          "output_type": "stream",
          "text": [
            "0 1 2 "
          ],
          "name": "stdout"
        }
      ]
    },
    {
      "cell_type": "code",
      "metadata": {
        "colab": {
          "base_uri": "https://localhost:8080/"
        },
        "id": "_rZNzoboLicz",
        "outputId": "d9d5b866-22cd-4277-fea5-6a3d3c051b08"
      },
      "source": [
        "for item in range(len(x)):\n",
        "  print(x[item], end = ' ')"
      ],
      "execution_count": 5,
      "outputs": [
        {
          "output_type": "stream",
          "text": [
            "0 1 2 "
          ],
          "name": "stdout"
        }
      ]
    },
    {
      "cell_type": "code",
      "metadata": {
        "id": "qXJ_Uu-PLqyk"
      },
      "source": [
        "#all in"
      ],
      "execution_count": 6,
      "outputs": []
    },
    {
      "cell_type": "code",
      "metadata": {
        "id": "CZ3Kad6sMmtJ"
      },
      "source": [
        "def count(numbers):\n",
        "  total = 0 #rolling sum\n",
        "  for x in numbers:\n",
        "    if x < 20:\n",
        "      total += 1\n",
        "  return total"
      ],
      "execution_count": 8,
      "outputs": []
    },
    {
      "cell_type": "code",
      "metadata": {
        "id": "2RmR15XmM3Wc"
      },
      "source": [
        "list_1 = [1,3,7,15,23,43,56,98]"
      ],
      "execution_count": 9,
      "outputs": []
    },
    {
      "cell_type": "code",
      "metadata": {
        "colab": {
          "base_uri": "https://localhost:8080/"
        },
        "id": "XPtTl1BCM5Np",
        "outputId": "7c5bc667-84c7-4eed-ce9b-77e450d7e081"
      },
      "source": [
        "count(list_1)"
      ],
      "execution_count": 10,
      "outputs": [
        {
          "output_type": "execute_result",
          "data": {
            "text/plain": [
              "4"
            ]
          },
          "metadata": {
            "tags": []
          },
          "execution_count": 10
        }
      ]
    },
    {
      "cell_type": "code",
      "metadata": {
        "colab": {
          "base_uri": "https://localhost:8080/"
        },
        "id": "rvLqUfePM5Qj",
        "outputId": "a3b41d65-5f37-41ff-ca8e-0320bf39dfae"
      },
      "source": [
        "prices = {\n",
        "    'box_of_spaghetti' : 4,\n",
        "    'lasagna' : 5,\n",
        "    'hamburger' : 2\n",
        "    }\n",
        "quantity = {\n",
        "    'box_of_spaghetti': 6,\n",
        "    'lasagna':10,\n",
        "    'hamburger':0\n",
        "    }\n",
        "\n",
        "money_spent = 0\n",
        "\n",
        "for i in prices:\n",
        "  money_spent = money_spent + (prices[i] * quantity[i])\n",
        "print(money_spent)"
      ],
      "execution_count": 14,
      "outputs": [
        {
          "output_type": "stream",
          "text": [
            "74\n"
          ],
          "name": "stdout"
        }
      ]
    },
    {
      "cell_type": "code",
      "metadata": {
        "id": "JICYEtv4M5Ta"
      },
      "source": [
        ""
      ],
      "execution_count": 15,
      "outputs": []
    },
    {
      "cell_type": "code",
      "metadata": {
        "id": "FqiPV1xRM5WQ"
      },
      "source": [
        ""
      ],
      "execution_count": null,
      "outputs": []
    },
    {
      "cell_type": "code",
      "metadata": {
        "id": "ZRaPVcSqM5Y2"
      },
      "source": [
        ""
      ],
      "execution_count": null,
      "outputs": []
    },
    {
      "cell_type": "code",
      "metadata": {
        "id": "x5cvyeepM5be"
      },
      "source": [
        ""
      ],
      "execution_count": null,
      "outputs": []
    },
    {
      "cell_type": "code",
      "metadata": {
        "id": "P079W4wDM5hA"
      },
      "source": [
        ""
      ],
      "execution_count": null,
      "outputs": []
    },
    {
      "cell_type": "code",
      "metadata": {
        "id": "wq_s9XA_M5kE"
      },
      "source": [
        ""
      ],
      "execution_count": null,
      "outputs": []
    },
    {
      "cell_type": "code",
      "metadata": {
        "id": "XRVxn6kCM5mZ"
      },
      "source": [
        ""
      ],
      "execution_count": null,
      "outputs": []
    },
    {
      "cell_type": "code",
      "metadata": {
        "id": "0zUbCwGuM5pT"
      },
      "source": [
        ""
      ],
      "execution_count": null,
      "outputs": []
    },
    {
      "cell_type": "code",
      "metadata": {
        "id": "awWAub1LM5sK"
      },
      "source": [
        ""
      ],
      "execution_count": null,
      "outputs": []
    },
    {
      "cell_type": "code",
      "metadata": {
        "id": "mBsRagacM5vB"
      },
      "source": [
        ""
      ],
      "execution_count": null,
      "outputs": []
    },
    {
      "cell_type": "code",
      "metadata": {
        "id": "_r5_t66FM5xu"
      },
      "source": [
        ""
      ],
      "execution_count": null,
      "outputs": []
    },
    {
      "cell_type": "code",
      "metadata": {
        "id": "oQP8ZjpXM50v"
      },
      "source": [
        ""
      ],
      "execution_count": null,
      "outputs": []
    }
  ]
}