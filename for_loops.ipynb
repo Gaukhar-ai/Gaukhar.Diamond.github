{
  "nbformat": 4,
  "nbformat_minor": 0,
  "metadata": {
    "colab": {
      "name": "for_loops.ipynb",
      "provenance": [],
      "authorship_tag": "ABX9TyO+2/EP30722CrBsGjLzoNW",
      "include_colab_link": true
    },
    "kernelspec": {
      "name": "python3",
      "display_name": "Python 3"
    }
  },
  "cells": [
    {
      "cell_type": "markdown",
      "metadata": {
        "id": "view-in-github",
        "colab_type": "text"
      },
      "source": [
        "<a href=\"https://colab.research.google.com/github/Gaukhar-ai/Gaukhar.Diamond.github/blob/master/for_loops.ipynb\" target=\"_parent\"><img src=\"https://colab.research.google.com/assets/colab-badge.svg\" alt=\"Open In Colab\"/></a>"
      ]
    },
    {
      "cell_type": "code",
      "metadata": {
        "id": "hms-nlzmexht"
      },
      "source": [
        "even = [0,2,4,6,8,10,12,14,16]"
      ],
      "execution_count": 1,
      "outputs": []
    },
    {
      "cell_type": "code",
      "metadata": {
        "colab": {
          "base_uri": "https://localhost:8080/"
        },
        "id": "kKZghLtZe_b-",
        "outputId": "6f701cf5-00d7-4fdb-ee17-cbac84182799"
      },
      "source": [
        "for number in even: #for every element n in the list even:\n",
        "  print(number) #n the loop var"
      ],
      "execution_count": 4,
      "outputs": [
        {
          "output_type": "stream",
          "text": [
            "0\n",
            "2\n",
            "4\n",
            "6\n",
            "8\n",
            "10\n",
            "12\n",
            "14\n",
            "16\n"
          ],
          "name": "stdout"
        }
      ]
    },
    {
      "cell_type": "code",
      "metadata": {
        "colab": {
          "base_uri": "https://localhost:8080/"
        },
        "id": "a2qLdezKfBTW",
        "outputId": "92889b3c-6635-452e-bc99-95903d193940"
      },
      "source": [
        "for number in even:\n",
        "  print(number, end = ' ') #to get a list in one row"
      ],
      "execution_count": 6,
      "outputs": [
        {
          "output_type": "stream",
          "text": [
            "0 2 4 6 8 10 12 14 16 "
          ],
          "name": "stdout"
        }
      ]
    },
    {
      "cell_type": "code",
      "metadata": {
        "id": "vXZeBCI4gA-7"
      },
      "source": [
        "x = 0\n",
        "while x <=20:\n",
        "  print(x, end = '') #will iterate forever, CP could crash"
      ],
      "execution_count": null,
      "outputs": []
    },
    {
      "cell_type": "code",
      "metadata": {
        "colab": {
          "base_uri": "https://localhost:8080/"
        },
        "id": "p0lAoqZ5gFQK",
        "outputId": "37314dde-1dc2-4cca-e1a0-fe14b31902b1"
      },
      "source": [
        "x = 0\n",
        "while x<=20:\n",
        "  print(x, end = ' ')\n",
        "  x = x + 2 #incrementing = adding the same number over another"
      ],
      "execution_count": 9,
      "outputs": [
        {
          "output_type": "stream",
          "text": [
            "0 2 4 6 8 10 12 14 16 18 20 "
          ],
          "name": "stdout"
        }
      ]
    },
    {
      "cell_type": "code",
      "metadata": {
        "colab": {
          "base_uri": "https://localhost:8080/"
        },
        "id": "0INxYM3SgFWU",
        "outputId": "8dd0bd2c-fe00-45c7-9bf5-093ea56aa245"
      },
      "source": [
        "x = 0 \n",
        "while x <=20:\n",
        "  print(x, end = ' ')\n",
        "  x+=2 #same as the top one"
      ],
      "execution_count": 10,
      "outputs": [
        {
          "output_type": "stream",
          "text": [
            "0 2 4 6 8 10 12 14 16 18 20 "
          ],
          "name": "stdout"
        }
      ]
    },
    {
      "cell_type": "code",
      "metadata": {
        "id": "-ZWp0nwfgFZl"
      },
      "source": [
        "#range(start, stop, step)\n",
        "#start = the first number in the list \n",
        "#stop = the last value + 1\n",
        "#step = the distance between each two consecutive values\n"
      ],
      "execution_count": null,
      "outputs": []
    },
    {
      "cell_type": "code",
      "metadata": {
        "colab": {
          "base_uri": "https://localhost:8080/"
        },
        "id": "9SMc5GCXgFdH",
        "outputId": "905d19de-cdcd-4a4b-d94a-04c6af8fb32e"
      },
      "source": [
        "range(10)"
      ],
      "execution_count": 11,
      "outputs": [
        {
          "output_type": "execute_result",
          "data": {
            "text/plain": [
              "range(0, 10)"
            ]
          },
          "metadata": {
            "tags": []
          },
          "execution_count": 11
        }
      ]
    },
    {
      "cell_type": "code",
      "metadata": {
        "colab": {
          "base_uri": "https://localhost:8080/"
        },
        "id": "PWanlwSNgFgf",
        "outputId": "77ecb403-6595-4266-b9ff-eb08055f7a6c"
      },
      "source": [
        "list(range(10)) #use list(range(10)) to get a list"
      ],
      "execution_count": 13,
      "outputs": [
        {
          "output_type": "execute_result",
          "data": {
            "text/plain": [
              "[0, 1, 2, 3, 4, 5, 6, 7, 8, 9]"
            ]
          },
          "metadata": {
            "tags": []
          },
          "execution_count": 13
        }
      ]
    },
    {
      "cell_type": "code",
      "metadata": {
        "colab": {
          "base_uri": "https://localhost:8080/"
        },
        "id": "5z6YUOczgFkI",
        "outputId": "dce19519-f5b4-4be0-b8e4-ecc447e32610"
      },
      "source": [
        "range(3,7)"
      ],
      "execution_count": 14,
      "outputs": [
        {
          "output_type": "execute_result",
          "data": {
            "text/plain": [
              "range(3, 7)"
            ]
          },
          "metadata": {
            "tags": []
          },
          "execution_count": 14
        }
      ]
    },
    {
      "cell_type": "code",
      "metadata": {
        "colab": {
          "base_uri": "https://localhost:8080/"
        },
        "id": "L7eS4zS9gFnY",
        "outputId": "b7217fba-a5c2-410b-8e5f-47ce0bbb1f26"
      },
      "source": [
        "list(range(3,7))"
      ],
      "execution_count": 15,
      "outputs": [
        {
          "output_type": "execute_result",
          "data": {
            "text/plain": [
              "[3, 4, 5, 6]"
            ]
          },
          "metadata": {
            "tags": []
          },
          "execution_count": 15
        }
      ]
    },
    {
      "cell_type": "code",
      "metadata": {
        "colab": {
          "base_uri": "https://localhost:8080/"
        },
        "id": "vhbVLidLgFqz",
        "outputId": "c89d4f18-5ff3-48fb-df96-7e6771beb7ca"
      },
      "source": [
        "range(1,20,2)"
      ],
      "execution_count": 16,
      "outputs": [
        {
          "output_type": "execute_result",
          "data": {
            "text/plain": [
              "range(1, 20, 2)"
            ]
          },
          "metadata": {
            "tags": []
          },
          "execution_count": 16
        }
      ]
    },
    {
      "cell_type": "code",
      "metadata": {
        "colab": {
          "base_uri": "https://localhost:8080/"
        },
        "id": "NRPcrIqUgFuL",
        "outputId": "aa384321-8de5-4482-a16d-af055e4347aa"
      },
      "source": [
        "list(range(1,20,2)) #use list to see the range list"
      ],
      "execution_count": 17,
      "outputs": [
        {
          "output_type": "execute_result",
          "data": {
            "text/plain": [
              "[1, 3, 5, 7, 9, 11, 13, 15, 17, 19]"
            ]
          },
          "metadata": {
            "tags": []
          },
          "execution_count": 17
        }
      ]
    },
    {
      "cell_type": "code",
      "metadata": {
        "id": "O_1Ykf62gFx8"
      },
      "source": [
        ""
      ],
      "execution_count": null,
      "outputs": []
    },
    {
      "cell_type": "code",
      "metadata": {
        "id": "A753dN64gF1d"
      },
      "source": [
        ""
      ],
      "execution_count": null,
      "outputs": []
    },
    {
      "cell_type": "code",
      "metadata": {
        "id": "iGMaOgjugF5E"
      },
      "source": [
        ""
      ],
      "execution_count": null,
      "outputs": []
    }
  ]
}