{
  "nbformat": 4,
  "nbformat_minor": 0,
  "metadata": {
    "colab": {
      "name": "sentiment_analysis_TextBlob.ipynb",
      "provenance": [],
      "authorship_tag": "ABX9TyMg0gqbEYGqG4yf9QbK7fGZ",
      "include_colab_link": true
    },
    "kernelspec": {
      "name": "python3",
      "display_name": "Python 3"
    }
  },
  "cells": [
    {
      "cell_type": "markdown",
      "metadata": {
        "id": "view-in-github",
        "colab_type": "text"
      },
      "source": [
        "<a href=\"https://colab.research.google.com/github/Gaukhar-ai/Gaukhar.Diamond.github/blob/master/sentiment_analysis_TextBlob.ipynb\" target=\"_parent\"><img src=\"https://colab.research.google.com/assets/colab-badge.svg\" alt=\"Open In Colab\"/></a>"
      ]
    },
    {
      "cell_type": "code",
      "metadata": {
        "id": "J5GaL4Xmo7mv"
      },
      "source": [
        "from textblob import TextBlob"
      ],
      "execution_count": 1,
      "outputs": []
    },
    {
      "cell_type": "code",
      "metadata": {
        "colab": {
          "base_uri": "https://localhost:8080/"
        },
        "id": "YZT_OnsZqWoh",
        "outputId": "bfe089ae-15a9-44b9-b4c8-3b2baccbb10d"
      },
      "source": [
        "Feedback1 = 'The food at Raddison was awesome'\n",
        "Feedback2 = 'The Raddison food was good'\n",
        "Feedback3 = 'The food at Raddison was horrible'\n",
        "Feedback4 = 'Raddison meals were not that bad'\n",
        "blob1 = TextBlob(Feedback1)\n",
        "blob2 = TextBlob(Feedback2)\n",
        "blob3 = TextBlob(Feedback3)\n",
        "blob4 = TextBlob(Feedback4)\n",
        "\n",
        "print(blob1.sentiment)\n",
        "print(blob2.sentiment)\n",
        "print(blob3.sentiment)\n",
        "print(blob4.sentiment)"
      ],
      "execution_count": 5,
      "outputs": [
        {
          "output_type": "stream",
          "text": [
            "Sentiment(polarity=1.0, subjectivity=1.0)\n",
            "Sentiment(polarity=0.7, subjectivity=0.6000000000000001)\n",
            "Sentiment(polarity=-1.0, subjectivity=1.0)\n",
            "Sentiment(polarity=-0.6999999999999998, subjectivity=0.6666666666666666)\n"
          ],
          "name": "stdout"
        }
      ]
    },
    {
      "cell_type": "code",
      "metadata": {
        "id": "sOoLflo4qWrC"
      },
      "source": [
        ""
      ],
      "execution_count": null,
      "outputs": []
    },
    {
      "cell_type": "code",
      "metadata": {
        "id": "c-dTWlivqWti"
      },
      "source": [
        ""
      ],
      "execution_count": null,
      "outputs": []
    },
    {
      "cell_type": "code",
      "metadata": {
        "id": "gAGvZyjaqWwS"
      },
      "source": [
        ""
      ],
      "execution_count": null,
      "outputs": []
    },
    {
      "cell_type": "code",
      "metadata": {
        "id": "lLqQRe6kqWy6"
      },
      "source": [
        ""
      ],
      "execution_count": null,
      "outputs": []
    },
    {
      "cell_type": "code",
      "metadata": {
        "id": "Dx7uV0SWqW1d"
      },
      "source": [
        ""
      ],
      "execution_count": null,
      "outputs": []
    },
    {
      "cell_type": "code",
      "metadata": {
        "id": "nJoLzs8PqW3_"
      },
      "source": [
        ""
      ],
      "execution_count": null,
      "outputs": []
    },
    {
      "cell_type": "code",
      "metadata": {
        "id": "a3RoX-HFqW6S"
      },
      "source": [
        ""
      ],
      "execution_count": null,
      "outputs": []
    },
    {
      "cell_type": "code",
      "metadata": {
        "id": "DdT9Cu8VqW9A"
      },
      "source": [
        ""
      ],
      "execution_count": null,
      "outputs": []
    },
    {
      "cell_type": "code",
      "metadata": {
        "id": "7Va2R12PqW_7"
      },
      "source": [
        ""
      ],
      "execution_count": null,
      "outputs": []
    }
  ]
}