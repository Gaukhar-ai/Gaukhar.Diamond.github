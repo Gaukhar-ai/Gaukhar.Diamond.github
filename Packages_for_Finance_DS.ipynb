{
  "nbformat": 4,
  "nbformat_minor": 0,
  "metadata": {
    "colab": {
      "name": "Packages_for_Finance_DS.ipynb",
      "provenance": [],
      "authorship_tag": "ABX9TyON9bmd6yn/zX0dIXuO33jU",
      "include_colab_link": true
    },
    "kernelspec": {
      "name": "python3",
      "display_name": "Python 3"
    }
  },
  "cells": [
    {
      "cell_type": "markdown",
      "metadata": {
        "id": "view-in-github",
        "colab_type": "text"
      },
      "source": [
        "<a href=\"https://colab.research.google.com/github/Gaukhar-ai/Gaukhar.Diamond.github/blob/master/Packages_for_Finance_DS.ipynb\" target=\"_parent\"><img src=\"https://colab.research.google.com/assets/colab-badge.svg\" alt=\"Open In Colab\"/></a>"
      ]
    },
    {
      "cell_type": "code",
      "metadata": {
        "id": "q8POdU4bX_1w"
      },
      "source": [
        "import numpy\n",
        "import pandas\n",
        "import random\n",
        "import matplotlib\n",
        "import random\n",
        "import statsmodels\n",
        "import pandas_datareader"
      ],
      "execution_count": 4,
      "outputs": []
    },
    {
      "cell_type": "markdown",
      "metadata": {
        "id": "Zzdlt7k3YO5u"
      },
      "source": [
        "Pandas - Panel Data = multidimensional datasets\n",
        "\n",
        "allows to organize data in a tabular form and to attract descriptive labels to the rows and the columns of the table. \n",
        "Suitable for working with time series and huge databases"
      ]
    },
    {
      "cell_type": "markdown",
      "metadata": {
        "id": "026u5dXwYtY8"
      },
      "source": [
        "Matplotlib\n",
        "\n",
        "a 2D plotting library specially designed for visualization of NumPy computations"
      ]
    },
    {
      "cell_type": "markdown",
      "metadata": {
        "id": "9upQscq5ZGAJ"
      },
      "source": [
        "NumPy\n",
        "Pandas\n",
        "matplotlib  =   SCIPY group of libraries. It's for math, ML, artificial intelligence, engineering"
      ]
    },
    {
      "cell_type": "markdown",
      "metadata": {
        "id": "DvyqRkTkZWZO"
      },
      "source": [
        "random = invokes random number generator\n",
        "\n",
        "math = math functions\n",
        "\n",
        "statsmodels = descriptive stats, plotting functions, regressions"
      ]
    },
    {
      "cell_type": "code",
      "metadata": {
        "id": "WF3BWMjvYLja"
      },
      "source": [
        ""
      ],
      "execution_count": null,
      "outputs": []
    }
  ]
}