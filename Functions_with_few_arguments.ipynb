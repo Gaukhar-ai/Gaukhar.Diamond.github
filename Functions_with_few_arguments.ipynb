{
  "nbformat": 4,
  "nbformat_minor": 0,
  "metadata": {
    "colab": {
      "name": "Functions_with_few_arguments.ipynb",
      "provenance": [],
      "authorship_tag": "ABX9TyO7saCrR4Ykoq4dblrDu/fw",
      "include_colab_link": true
    },
    "kernelspec": {
      "name": "python3",
      "display_name": "Python 3"
    }
  },
  "cells": [
    {
      "cell_type": "markdown",
      "metadata": {
        "id": "view-in-github",
        "colab_type": "text"
      },
      "source": [
        "<a href=\"https://colab.research.google.com/github/Gaukhar-ai/Gaukhar.Diamond.github/blob/master/Functions_with_few_arguments.ipynb\" target=\"_parent\"><img src=\"https://colab.research.google.com/assets/colab-badge.svg\" alt=\"Open In Colab\"/></a>"
      ]
    },
    {
      "cell_type": "code",
      "metadata": {
        "id": "FRjj0EdJ4t6D"
      },
      "source": [
        "def subtract_bc(a,b,c):\n",
        "  result = a - b*c\n",
        "  print('Parameter a equals', a)\n",
        "  print('Parameter b equals', b)\n",
        "  print('Parameter c equals', c)\n",
        "  return result"
      ],
      "execution_count": 1,
      "outputs": []
    },
    {
      "cell_type": "code",
      "metadata": {
        "colab": {
          "base_uri": "https://localhost:8080/"
        },
        "id": "hkYVGZ4I5DXE",
        "outputId": "40d69256-4510-4529-fa5c-7efb32967ba4"
      },
      "source": [
        "subtract_bc(10,3,2)"
      ],
      "execution_count": 2,
      "outputs": [
        {
          "output_type": "stream",
          "text": [
            "Parameter a equals 10\n",
            "Parameter b equals 3\n",
            "Parameter c equals 2\n"
          ],
          "name": "stdout"
        },
        {
          "output_type": "execute_result",
          "data": {
            "text/plain": [
              "4"
            ]
          },
          "metadata": {
            "tags": []
          },
          "execution_count": 2
        }
      ]
    },
    {
      "cell_type": "code",
      "metadata": {
        "colab": {
          "base_uri": "https://localhost:8080/"
        },
        "id": "XC2y4c-BF-jO",
        "outputId": "d2cebf75-93d2-4005-f47f-e0dfb07cad11"
      },
      "source": [
        "subtract_bc(b=3, a=20, c=6)"
      ],
      "execution_count": 3,
      "outputs": [
        {
          "output_type": "stream",
          "text": [
            "Parameter a equals 20\n",
            "Parameter b equals 3\n",
            "Parameter c equals 6\n"
          ],
          "name": "stdout"
        },
        {
          "output_type": "execute_result",
          "data": {
            "text/plain": [
              "2"
            ]
          },
          "metadata": {
            "tags": []
          },
          "execution_count": 3
        }
      ]
    },
    {
      "cell_type": "code",
      "metadata": {
        "id": "h7nE92SbGbkb"
      },
      "source": [
        "#built-in functions in python"
      ],
      "execution_count": 4,
      "outputs": []
    },
    {
      "cell_type": "code",
      "metadata": {
        "colab": {
          "base_uri": "https://localhost:8080/"
        },
        "id": "XNt1GMSgHGR4",
        "outputId": "7cf070e0-865d-4faa-8e19-50d57f8efd87"
      },
      "source": [
        "type(10)"
      ],
      "execution_count": 5,
      "outputs": [
        {
          "output_type": "execute_result",
          "data": {
            "text/plain": [
              "int"
            ]
          },
          "metadata": {
            "tags": []
          },
          "execution_count": 5
        }
      ]
    },
    {
      "cell_type": "code",
      "metadata": {
        "colab": {
          "base_uri": "https://localhost:8080/"
        },
        "id": "yP4Z_MCAHGzg",
        "outputId": "bf7301de-55e7-4bfe-bd63-b513c75fea55"
      },
      "source": [
        "int(5.0)"
      ],
      "execution_count": 6,
      "outputs": [
        {
          "output_type": "execute_result",
          "data": {
            "text/plain": [
              "5"
            ]
          },
          "metadata": {
            "tags": []
          },
          "execution_count": 6
        }
      ]
    },
    {
      "cell_type": "code",
      "metadata": {
        "colab": {
          "base_uri": "https://localhost:8080/"
        },
        "id": "S5QrfmEUHG2u",
        "outputId": "5e375f06-fd59-4360-cc8e-002b0d073183"
      },
      "source": [
        "float(3)"
      ],
      "execution_count": 7,
      "outputs": [
        {
          "output_type": "execute_result",
          "data": {
            "text/plain": [
              "3.0"
            ]
          },
          "metadata": {
            "tags": []
          },
          "execution_count": 7
        }
      ]
    },
    {
      "cell_type": "code",
      "metadata": {
        "colab": {
          "base_uri": "https://localhost:8080/",
          "height": 35
        },
        "id": "NmWuugY2HG5v",
        "outputId": "b3b8f196-ab2e-4f3c-bd50-54a6400987c4"
      },
      "source": [
        "str(500)"
      ],
      "execution_count": 8,
      "outputs": [
        {
          "output_type": "execute_result",
          "data": {
            "application/vnd.google.colaboratory.intrinsic+json": {
              "type": "string"
            },
            "text/plain": [
              "'500'"
            ]
          },
          "metadata": {
            "tags": []
          },
          "execution_count": 8
        }
      ]
    },
    {
      "cell_type": "code",
      "metadata": {
        "id": "Z8IYYjy7HG9J"
      },
      "source": [
        "#max - returns the max, min - returns the lowest value from the sequence"
      ],
      "execution_count": 9,
      "outputs": []
    },
    {
      "cell_type": "code",
      "metadata": {
        "colab": {
          "base_uri": "https://localhost:8080/"
        },
        "id": "74hZ3mslHHAd",
        "outputId": "2d43148f-ad4c-4eb3-9d77-d1d2890ccb03"
      },
      "source": [
        "max(10, 20, 50)"
      ],
      "execution_count": 10,
      "outputs": [
        {
          "output_type": "execute_result",
          "data": {
            "text/plain": [
              "50"
            ]
          },
          "metadata": {
            "tags": []
          },
          "execution_count": 10
        }
      ]
    },
    {
      "cell_type": "code",
      "metadata": {
        "colab": {
          "base_uri": "https://localhost:8080/"
        },
        "id": "jnOeKi-5HHDS",
        "outputId": "ab0109ce-1924-429e-bd95-c063b301f051"
      },
      "source": [
        "min(5, 0, 49)"
      ],
      "execution_count": 11,
      "outputs": [
        {
          "output_type": "execute_result",
          "data": {
            "text/plain": [
              "0"
            ]
          },
          "metadata": {
            "tags": []
          },
          "execution_count": 11
        }
      ]
    },
    {
      "cell_type": "code",
      "metadata": {
        "id": "a4tVBiM2HHJy"
      },
      "source": [
        "#abs() allows to obtain the absolute value of its argument"
      ],
      "execution_count": 12,
      "outputs": []
    },
    {
      "cell_type": "code",
      "metadata": {
        "colab": {
          "base_uri": "https://localhost:8080/"
        },
        "id": "3Cyf4X-3HmWG",
        "outputId": "3e56239b-4862-4737-b34a-a02e40e51eef"
      },
      "source": [
        "z = -20\n",
        "abs(z)"
      ],
      "execution_count": 13,
      "outputs": [
        {
          "output_type": "execute_result",
          "data": {
            "text/plain": [
              "20"
            ]
          },
          "metadata": {
            "tags": []
          },
          "execution_count": 13
        }
      ]
    },
    {
      "cell_type": "code",
      "metadata": {
        "colab": {
          "base_uri": "https://localhost:8080/"
        },
        "id": "1id1gEWKKJ7y",
        "outputId": "df727bf9-4228-48f3-87c0-50ed188d91f0"
      },
      "source": [
        "a = 35.8\n",
        "abs(a)"
      ],
      "execution_count": 14,
      "outputs": [
        {
          "output_type": "execute_result",
          "data": {
            "text/plain": [
              "35.8"
            ]
          },
          "metadata": {
            "tags": []
          },
          "execution_count": 14
        }
      ]
    },
    {
      "cell_type": "code",
      "metadata": {
        "id": "PAJRTeZ7KPxW"
      },
      "source": [
        "list_1 = [1,2,3,4]"
      ],
      "execution_count": 15,
      "outputs": []
    },
    {
      "cell_type": "code",
      "metadata": {
        "colab": {
          "base_uri": "https://localhost:8080/"
        },
        "id": "LSygp7BHKakK",
        "outputId": "7fb673dc-1f58-4e23-8cc8-6a2b8034d074"
      },
      "source": [
        "sum(list_1)"
      ],
      "execution_count": 16,
      "outputs": [
        {
          "output_type": "execute_result",
          "data": {
            "text/plain": [
              "10"
            ]
          },
          "metadata": {
            "tags": []
          },
          "execution_count": 16
        }
      ]
    },
    {
      "cell_type": "code",
      "metadata": {
        "colab": {
          "base_uri": "https://localhost:8080/"
        },
        "id": "6Pt1qQCQKb28",
        "outputId": "a6ac2bfb-bc2a-4ab1-e66c-1b86f004930b"
      },
      "source": [
        "round(3.555,2)"
      ],
      "execution_count": 17,
      "outputs": [
        {
          "output_type": "execute_result",
          "data": {
            "text/plain": [
              "3.56"
            ]
          },
          "metadata": {
            "tags": []
          },
          "execution_count": 17
        }
      ]
    },
    {
      "cell_type": "code",
      "metadata": {
        "colab": {
          "base_uri": "https://localhost:8080/"
        },
        "id": "979GWjdeKfXa",
        "outputId": "09b16434-5a49-4999-a509-e8da0baee31f"
      },
      "source": [
        "round(3.2)"
      ],
      "execution_count": 18,
      "outputs": [
        {
          "output_type": "execute_result",
          "data": {
            "text/plain": [
              "3"
            ]
          },
          "metadata": {
            "tags": []
          },
          "execution_count": 18
        }
      ]
    },
    {
      "cell_type": "code",
      "metadata": {
        "colab": {
          "base_uri": "https://localhost:8080/"
        },
        "id": "wiyKMfkvKhym",
        "outputId": "047e372b-e7fd-4187-a788-8c8ccf80725b"
      },
      "source": [
        "2**10"
      ],
      "execution_count": 19,
      "outputs": [
        {
          "output_type": "execute_result",
          "data": {
            "text/plain": [
              "1024"
            ]
          },
          "metadata": {
            "tags": []
          },
          "execution_count": 19
        }
      ]
    },
    {
      "cell_type": "code",
      "metadata": {
        "colab": {
          "base_uri": "https://localhost:8080/"
        },
        "id": "sv_Fl_otKxcx",
        "outputId": "ce0f5ad3-79c7-49cb-98ae-1251f925c9bb"
      },
      "source": [
        "pow(2,10) #power of 10, so 2*2*2*2.. = 1024 on 10th"
      ],
      "execution_count": 20,
      "outputs": [
        {
          "output_type": "execute_result",
          "data": {
            "text/plain": [
              "1024"
            ]
          },
          "metadata": {
            "tags": []
          },
          "execution_count": 20
        }
      ]
    },
    {
      "cell_type": "code",
      "metadata": {
        "colab": {
          "base_uri": "https://localhost:8080/"
        },
        "id": "US478__NK0AK",
        "outputId": "29ace76b-53a5-44c8-8eb4-ac860e6b6d1a"
      },
      "source": [
        "len('Mathematics') #counts how many letters in the word"
      ],
      "execution_count": 21,
      "outputs": [
        {
          "output_type": "execute_result",
          "data": {
            "text/plain": [
              "11"
            ]
          },
          "metadata": {
            "tags": []
          },
          "execution_count": 21
        }
      ]
    },
    {
      "cell_type": "code",
      "metadata": {
        "id": "RPV93yL1LGvs"
      },
      "source": [
        ""
      ],
      "execution_count": 21,
      "outputs": []
    },
    {
      "cell_type": "code",
      "metadata": {
        "id": "AReiEUo1LGyy"
      },
      "source": [
        "# LISTS"
      ],
      "execution_count": 22,
      "outputs": []
    },
    {
      "cell_type": "code",
      "metadata": {
        "colab": {
          "base_uri": "https://localhost:8080/"
        },
        "id": "92oHHduvLG1p",
        "outputId": "e0791bc1-94a4-46d3-9804-ab1dd5ae2385"
      },
      "source": [
        "Participants = ['John', 'Leila', 'Greg', 'Cate']\n",
        "Participants"
      ],
      "execution_count": 23,
      "outputs": [
        {
          "output_type": "execute_result",
          "data": {
            "text/plain": [
              "['John', 'Leila', 'Greg', 'Cate']"
            ]
          },
          "metadata": {
            "tags": []
          },
          "execution_count": 23
        }
      ]
    },
    {
      "cell_type": "code",
      "metadata": {
        "colab": {
          "base_uri": "https://localhost:8080/"
        },
        "id": "oqn0C-8rLG4g",
        "outputId": "9190136f-f4de-4530-e735-49a259753da5"
      },
      "source": [
        "print(Participants[1]) #by indexing the value of 3"
      ],
      "execution_count": 24,
      "outputs": [
        {
          "output_type": "stream",
          "text": [
            "Leila\n"
          ],
          "name": "stdout"
        }
      ]
    },
    {
      "cell_type": "code",
      "metadata": {
        "colab": {
          "base_uri": "https://localhost:8080/",
          "height": 35
        },
        "id": "uLzjqOsQLG60",
        "outputId": "9de68728-255c-4678-e0d5-40e63fd0b3f4"
      },
      "source": [
        "Participants[-2]"
      ],
      "execution_count": 25,
      "outputs": [
        {
          "output_type": "execute_result",
          "data": {
            "application/vnd.google.colaboratory.intrinsic+json": {
              "type": "string"
            },
            "text/plain": [
              "'Greg'"
            ]
          },
          "metadata": {
            "tags": []
          },
          "execution_count": 25
        }
      ]
    },
    {
      "cell_type": "code",
      "metadata": {
        "colab": {
          "base_uri": "https://localhost:8080/"
        },
        "id": "j6sJdP-WLG9j",
        "outputId": "c47e1649-11bc-42e7-8cf1-7fcd471862c6"
      },
      "source": [
        "Participants[3] = 'Maria'\n",
        "Participants"
      ],
      "execution_count": 26,
      "outputs": [
        {
          "output_type": "execute_result",
          "data": {
            "text/plain": [
              "['John', 'Leila', 'Greg', 'Maria']"
            ]
          },
          "metadata": {
            "tags": []
          },
          "execution_count": 26
        }
      ]
    },
    {
      "cell_type": "code",
      "metadata": {
        "colab": {
          "base_uri": "https://localhost:8080/"
        },
        "id": "0X1n0tfYLHAW",
        "outputId": "b3544d5d-23b0-43ea-fbe5-389accbf49a3"
      },
      "source": [
        "Participants"
      ],
      "execution_count": 27,
      "outputs": [
        {
          "output_type": "execute_result",
          "data": {
            "text/plain": [
              "['John', 'Leila', 'Greg', 'Maria']"
            ]
          },
          "metadata": {
            "tags": []
          },
          "execution_count": 27
        }
      ]
    },
    {
      "cell_type": "code",
      "metadata": {
        "colab": {
          "base_uri": "https://localhost:8080/"
        },
        "id": "a_yc7ohnLHDa",
        "outputId": "e0dee385-d0a8-40b9-f74e-bdfe0fba8e8d"
      },
      "source": [
        "del Participants[2] # delete Greg by indexing 2\n",
        "Participants"
      ],
      "execution_count": 28,
      "outputs": [
        {
          "output_type": "execute_result",
          "data": {
            "text/plain": [
              "['John', 'Leila', 'Maria']"
            ]
          },
          "metadata": {
            "tags": []
          },
          "execution_count": 28
        }
      ]
    },
    {
      "cell_type": "code",
      "metadata": {
        "id": "UiITqFZAMVft"
      },
      "source": [
        ""
      ],
      "execution_count": 28,
      "outputs": []
    }
  ]
}